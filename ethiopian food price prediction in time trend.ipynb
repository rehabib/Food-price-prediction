{
 "cells": [
  {
   "cell_type": "markdown",
   "id": "151137fc",
   "metadata": {},
   "source": [
    "# Explolatory data analysis for better understanding of the data"
   ]
  },
  {
   "cell_type": "code",
   "execution_count": 1,
   "id": "5d10623e",
   "metadata": {},
   "outputs": [],
   "source": [
    "#Let's import some important packages and read the dataset \n",
    "import numpy as np\n",
    "import pandas as pd\n",
    "import matplotlib.pyplot as plt\n",
    "from datetime import datetime\n",
    "data = pd.read_csv(\"C://Users/Remla/Desktop/dataset for ML/ethiopian_wfp_food_prices.csv\")"
   ]
  },
  {
   "cell_type": "code",
   "execution_count": 2,
   "id": "8b259dac",
   "metadata": {},
   "outputs": [
    {
     "data": {
      "text/html": [
       "<div>\n",
       "<style scoped>\n",
       "    .dataframe tbody tr th:only-of-type {\n",
       "        vertical-align: middle;\n",
       "    }\n",
       "\n",
       "    .dataframe tbody tr th {\n",
       "        vertical-align: top;\n",
       "    }\n",
       "\n",
       "    .dataframe thead th {\n",
       "        text-align: right;\n",
       "    }\n",
       "</style>\n",
       "<table border=\"1\" class=\"dataframe\">\n",
       "  <thead>\n",
       "    <tr style=\"text-align: right;\">\n",
       "      <th></th>\n",
       "      <th>date</th>\n",
       "      <th>admin1</th>\n",
       "      <th>admin2</th>\n",
       "      <th>market</th>\n",
       "      <th>latitude</th>\n",
       "      <th>longitude</th>\n",
       "      <th>category</th>\n",
       "      <th>commodity</th>\n",
       "      <th>unit</th>\n",
       "      <th>priceflag</th>\n",
       "      <th>pricetype</th>\n",
       "      <th>currency</th>\n",
       "      <th>price</th>\n",
       "      <th>usdprice</th>\n",
       "    </tr>\n",
       "  </thead>\n",
       "  <tbody>\n",
       "    <tr>\n",
       "      <th>0</th>\n",
       "      <td>#date</td>\n",
       "      <td>#adm1+name</td>\n",
       "      <td>#adm2+name</td>\n",
       "      <td>#loc+market+name</td>\n",
       "      <td>#geo+lat</td>\n",
       "      <td>#geo+lon</td>\n",
       "      <td>#item+type</td>\n",
       "      <td>#item+name</td>\n",
       "      <td>#item+unit</td>\n",
       "      <td>#item+price+flag</td>\n",
       "      <td>#item+price+type</td>\n",
       "      <td>#currency</td>\n",
       "      <td>#value</td>\n",
       "      <td>#value+usd</td>\n",
       "    </tr>\n",
       "    <tr>\n",
       "      <th>1</th>\n",
       "      <td>2000-01-15</td>\n",
       "      <td>Addis Ababa</td>\n",
       "      <td>AA ZONE1</td>\n",
       "      <td>Addis Ababa</td>\n",
       "      <td>9.024325</td>\n",
       "      <td>38.749226</td>\n",
       "      <td>cereals and tubers</td>\n",
       "      <td>Maize (white)</td>\n",
       "      <td>100 KG</td>\n",
       "      <td>actual</td>\n",
       "      <td>Wholesale</td>\n",
       "      <td>ETB</td>\n",
       "      <td>120.75</td>\n",
       "      <td>14.8372</td>\n",
       "    </tr>\n",
       "    <tr>\n",
       "      <th>2</th>\n",
       "      <td>2000-01-15</td>\n",
       "      <td>Addis Ababa</td>\n",
       "      <td>AA ZONE1</td>\n",
       "      <td>Addis Ababa</td>\n",
       "      <td>9.024325</td>\n",
       "      <td>38.749226</td>\n",
       "      <td>cereals and tubers</td>\n",
       "      <td>Sorghum (white)</td>\n",
       "      <td>100 KG</td>\n",
       "      <td>actual</td>\n",
       "      <td>Wholesale</td>\n",
       "      <td>ETB</td>\n",
       "      <td>187.25</td>\n",
       "      <td>23.0083</td>\n",
       "    </tr>\n",
       "    <tr>\n",
       "      <th>3</th>\n",
       "      <td>2000-01-15</td>\n",
       "      <td>Addis Ababa</td>\n",
       "      <td>AA ZONE1</td>\n",
       "      <td>Addis Ababa</td>\n",
       "      <td>9.024325</td>\n",
       "      <td>38.749226</td>\n",
       "      <td>cereals and tubers</td>\n",
       "      <td>Teff</td>\n",
       "      <td>100 KG</td>\n",
       "      <td>actual</td>\n",
       "      <td>Wholesale</td>\n",
       "      <td>ETB</td>\n",
       "      <td>222.0</td>\n",
       "      <td>27.2782</td>\n",
       "    </tr>\n",
       "    <tr>\n",
       "      <th>4</th>\n",
       "      <td>2000-01-15</td>\n",
       "      <td>Addis Ababa</td>\n",
       "      <td>AA ZONE1</td>\n",
       "      <td>Addis Ababa</td>\n",
       "      <td>9.024325</td>\n",
       "      <td>38.749226</td>\n",
       "      <td>cereals and tubers</td>\n",
       "      <td>Wheat</td>\n",
       "      <td>100 KG</td>\n",
       "      <td>actual</td>\n",
       "      <td>Wholesale</td>\n",
       "      <td>ETB</td>\n",
       "      <td>168.75</td>\n",
       "      <td>20.7351</td>\n",
       "    </tr>\n",
       "  </tbody>\n",
       "</table>\n",
       "</div>"
      ],
      "text/plain": [
       "         date       admin1      admin2            market  latitude  longitude  \\\n",
       "0       #date   #adm1+name  #adm2+name  #loc+market+name  #geo+lat   #geo+lon   \n",
       "1  2000-01-15  Addis Ababa    AA ZONE1       Addis Ababa  9.024325  38.749226   \n",
       "2  2000-01-15  Addis Ababa    AA ZONE1       Addis Ababa  9.024325  38.749226   \n",
       "3  2000-01-15  Addis Ababa    AA ZONE1       Addis Ababa  9.024325  38.749226   \n",
       "4  2000-01-15  Addis Ababa    AA ZONE1       Addis Ababa  9.024325  38.749226   \n",
       "\n",
       "             category        commodity        unit         priceflag  \\\n",
       "0          #item+type       #item+name  #item+unit  #item+price+flag   \n",
       "1  cereals and tubers    Maize (white)      100 KG            actual   \n",
       "2  cereals and tubers  Sorghum (white)      100 KG            actual   \n",
       "3  cereals and tubers             Teff      100 KG            actual   \n",
       "4  cereals and tubers            Wheat      100 KG            actual   \n",
       "\n",
       "          pricetype   currency   price    usdprice  \n",
       "0  #item+price+type  #currency  #value  #value+usd  \n",
       "1         Wholesale        ETB  120.75     14.8372  \n",
       "2         Wholesale        ETB  187.25     23.0083  \n",
       "3         Wholesale        ETB   222.0     27.2782  \n",
       "4         Wholesale        ETB  168.75     20.7351  "
      ]
     },
     "execution_count": 2,
     "metadata": {},
     "output_type": "execute_result"
    }
   ],
   "source": [
    "data.head()#the first five rows of the dataset"
   ]
  },
  {
   "cell_type": "code",
   "execution_count": 3,
   "id": "741e2dc8",
   "metadata": {},
   "outputs": [
    {
     "data": {
      "text/html": [
       "<div>\n",
       "<style scoped>\n",
       "    .dataframe tbody tr th:only-of-type {\n",
       "        vertical-align: middle;\n",
       "    }\n",
       "\n",
       "    .dataframe tbody tr th {\n",
       "        vertical-align: top;\n",
       "    }\n",
       "\n",
       "    .dataframe thead th {\n",
       "        text-align: right;\n",
       "    }\n",
       "</style>\n",
       "<table border=\"1\" class=\"dataframe\">\n",
       "  <thead>\n",
       "    <tr style=\"text-align: right;\">\n",
       "      <th></th>\n",
       "      <th>admin1</th>\n",
       "      <th>admin2</th>\n",
       "      <th>category</th>\n",
       "      <th>commodity</th>\n",
       "      <th>date</th>\n",
       "      <th>latitude</th>\n",
       "      <th>longitude</th>\n",
       "      <th>market</th>\n",
       "      <th>price</th>\n",
       "      <th>priceflag</th>\n",
       "      <th>pricetype</th>\n",
       "      <th>usdprice</th>\n",
       "    </tr>\n",
       "  </thead>\n",
       "  <tbody>\n",
       "    <tr>\n",
       "      <th>1</th>\n",
       "      <td>Addis Ababa</td>\n",
       "      <td>AA ZONE1</td>\n",
       "      <td>cereals and tubers</td>\n",
       "      <td>Maize (white)</td>\n",
       "      <td>2000-01-15</td>\n",
       "      <td>9.024325</td>\n",
       "      <td>38.749226</td>\n",
       "      <td>Addis Ababa</td>\n",
       "      <td>120.75</td>\n",
       "      <td>actual</td>\n",
       "      <td>Wholesale</td>\n",
       "      <td>14.8372</td>\n",
       "    </tr>\n",
       "    <tr>\n",
       "      <th>2</th>\n",
       "      <td>Addis Ababa</td>\n",
       "      <td>AA ZONE1</td>\n",
       "      <td>cereals and tubers</td>\n",
       "      <td>Sorghum (white)</td>\n",
       "      <td>2000-01-15</td>\n",
       "      <td>9.024325</td>\n",
       "      <td>38.749226</td>\n",
       "      <td>Addis Ababa</td>\n",
       "      <td>187.25</td>\n",
       "      <td>actual</td>\n",
       "      <td>Wholesale</td>\n",
       "      <td>23.0083</td>\n",
       "    </tr>\n",
       "    <tr>\n",
       "      <th>3</th>\n",
       "      <td>Addis Ababa</td>\n",
       "      <td>AA ZONE1</td>\n",
       "      <td>cereals and tubers</td>\n",
       "      <td>Teff</td>\n",
       "      <td>2000-01-15</td>\n",
       "      <td>9.024325</td>\n",
       "      <td>38.749226</td>\n",
       "      <td>Addis Ababa</td>\n",
       "      <td>222.0</td>\n",
       "      <td>actual</td>\n",
       "      <td>Wholesale</td>\n",
       "      <td>27.2782</td>\n",
       "    </tr>\n",
       "    <tr>\n",
       "      <th>4</th>\n",
       "      <td>Addis Ababa</td>\n",
       "      <td>AA ZONE1</td>\n",
       "      <td>cereals and tubers</td>\n",
       "      <td>Wheat</td>\n",
       "      <td>2000-01-15</td>\n",
       "      <td>9.024325</td>\n",
       "      <td>38.749226</td>\n",
       "      <td>Addis Ababa</td>\n",
       "      <td>168.75</td>\n",
       "      <td>actual</td>\n",
       "      <td>Wholesale</td>\n",
       "      <td>20.7351</td>\n",
       "    </tr>\n",
       "    <tr>\n",
       "      <th>5</th>\n",
       "      <td>Amhara</td>\n",
       "      <td>Administrative unit not available</td>\n",
       "      <td>cereals and tubers</td>\n",
       "      <td>Maize (white)</td>\n",
       "      <td>2000-01-15</td>\n",
       "      <td>11.6</td>\n",
       "      <td>37.383333</td>\n",
       "      <td>Baher Dar</td>\n",
       "      <td>115.5</td>\n",
       "      <td>actual</td>\n",
       "      <td>Wholesale</td>\n",
       "      <td>14.1921</td>\n",
       "    </tr>\n",
       "  </tbody>\n",
       "</table>\n",
       "</div>"
      ],
      "text/plain": [
       "        admin1                             admin2            category  \\\n",
       "1  Addis Ababa                           AA ZONE1  cereals and tubers   \n",
       "2  Addis Ababa                           AA ZONE1  cereals and tubers   \n",
       "3  Addis Ababa                           AA ZONE1  cereals and tubers   \n",
       "4  Addis Ababa                           AA ZONE1  cereals and tubers   \n",
       "5       Amhara  Administrative unit not available  cereals and tubers   \n",
       "\n",
       "         commodity        date  latitude  longitude       market   price  \\\n",
       "1    Maize (white)  2000-01-15  9.024325  38.749226  Addis Ababa  120.75   \n",
       "2  Sorghum (white)  2000-01-15  9.024325  38.749226  Addis Ababa  187.25   \n",
       "3             Teff  2000-01-15  9.024325  38.749226  Addis Ababa   222.0   \n",
       "4            Wheat  2000-01-15  9.024325  38.749226  Addis Ababa  168.75   \n",
       "5    Maize (white)  2000-01-15      11.6  37.383333    Baher Dar   115.5   \n",
       "\n",
       "  priceflag  pricetype usdprice  \n",
       "1    actual  Wholesale  14.8372  \n",
       "2    actual  Wholesale  23.0083  \n",
       "3    actual  Wholesale  27.2782  \n",
       "4    actual  Wholesale  20.7351  \n",
       "5    actual  Wholesale  14.1921  "
      ]
     },
     "execution_count": 3,
     "metadata": {},
     "output_type": "execute_result"
    }
   ],
   "source": [
    "data=data.loc[data.index.difference([0]),data.columns.difference(['unit','currency'])]#removing some not important row and columns\n",
    "data.head()"
   ]
  },
  {
   "cell_type": "code",
   "execution_count": 4,
   "id": "92c4cb81",
   "metadata": {},
   "outputs": [
    {
     "data": {
      "text/html": [
       "<div>\n",
       "<style scoped>\n",
       "    .dataframe tbody tr th:only-of-type {\n",
       "        vertical-align: middle;\n",
       "    }\n",
       "\n",
       "    .dataframe tbody tr th {\n",
       "        vertical-align: top;\n",
       "    }\n",
       "\n",
       "    .dataframe thead th {\n",
       "        text-align: right;\n",
       "    }\n",
       "</style>\n",
       "<table border=\"1\" class=\"dataframe\">\n",
       "  <thead>\n",
       "    <tr style=\"text-align: right;\">\n",
       "      <th></th>\n",
       "      <th>admin1</th>\n",
       "      <th>admin2</th>\n",
       "      <th>category</th>\n",
       "      <th>commodity</th>\n",
       "      <th>date</th>\n",
       "      <th>latitude</th>\n",
       "      <th>longitude</th>\n",
       "      <th>market</th>\n",
       "      <th>price</th>\n",
       "      <th>priceflag</th>\n",
       "      <th>pricetype</th>\n",
       "      <th>usdprice</th>\n",
       "    </tr>\n",
       "  </thead>\n",
       "  <tbody>\n",
       "    <tr>\n",
       "      <th>52224</th>\n",
       "      <td>Amhara</td>\n",
       "      <td>W. HAMRA</td>\n",
       "      <td>oil and fats</td>\n",
       "      <td>Oil (vegetable)</td>\n",
       "      <td>2024-01-15</td>\n",
       "      <td>12.630556</td>\n",
       "      <td>39.034722</td>\n",
       "      <td>Sekota</td>\n",
       "      <td>0.0</td>\n",
       "      <td>forecast</td>\n",
       "      <td>Retail</td>\n",
       "      <td>0.0</td>\n",
       "    </tr>\n",
       "    <tr>\n",
       "      <th>52225</th>\n",
       "      <td>Amhara</td>\n",
       "      <td>W. HAMRA</td>\n",
       "      <td>pulses and nuts</td>\n",
       "      <td>Beans (fava)</td>\n",
       "      <td>2024-01-15</td>\n",
       "      <td>12.630556</td>\n",
       "      <td>39.034722</td>\n",
       "      <td>Sekota</td>\n",
       "      <td>0.0</td>\n",
       "      <td>forecast</td>\n",
       "      <td>Retail</td>\n",
       "      <td>0.0</td>\n",
       "    </tr>\n",
       "    <tr>\n",
       "      <th>52226</th>\n",
       "      <td>Amhara</td>\n",
       "      <td>W. HAMRA</td>\n",
       "      <td>vegetables and fruits</td>\n",
       "      <td>Bananas</td>\n",
       "      <td>2024-01-15</td>\n",
       "      <td>12.630556</td>\n",
       "      <td>39.034722</td>\n",
       "      <td>Sekota</td>\n",
       "      <td>0.0</td>\n",
       "      <td>forecast</td>\n",
       "      <td>Retail</td>\n",
       "      <td>0.0</td>\n",
       "    </tr>\n",
       "    <tr>\n",
       "      <th>52227</th>\n",
       "      <td>Amhara</td>\n",
       "      <td>W. HAMRA</td>\n",
       "      <td>vegetables and fruits</td>\n",
       "      <td>Onions</td>\n",
       "      <td>2024-01-15</td>\n",
       "      <td>12.630556</td>\n",
       "      <td>39.034722</td>\n",
       "      <td>Sekota</td>\n",
       "      <td>0.0</td>\n",
       "      <td>forecast</td>\n",
       "      <td>Retail</td>\n",
       "      <td>0.0</td>\n",
       "    </tr>\n",
       "    <tr>\n",
       "      <th>52228</th>\n",
       "      <td>Amhara</td>\n",
       "      <td>W. HAMRA</td>\n",
       "      <td>vegetables and fruits</td>\n",
       "      <td>Tomatoes</td>\n",
       "      <td>2024-01-15</td>\n",
       "      <td>12.630556</td>\n",
       "      <td>39.034722</td>\n",
       "      <td>Sekota</td>\n",
       "      <td>0.0</td>\n",
       "      <td>forecast</td>\n",
       "      <td>Retail</td>\n",
       "      <td>0.0</td>\n",
       "    </tr>\n",
       "  </tbody>\n",
       "</table>\n",
       "</div>"
      ],
      "text/plain": [
       "       admin1    admin2               category        commodity        date  \\\n",
       "52224  Amhara  W. HAMRA           oil and fats  Oil (vegetable)  2024-01-15   \n",
       "52225  Amhara  W. HAMRA        pulses and nuts     Beans (fava)  2024-01-15   \n",
       "52226  Amhara  W. HAMRA  vegetables and fruits          Bananas  2024-01-15   \n",
       "52227  Amhara  W. HAMRA  vegetables and fruits           Onions  2024-01-15   \n",
       "52228  Amhara  W. HAMRA  vegetables and fruits         Tomatoes  2024-01-15   \n",
       "\n",
       "        latitude  longitude  market price priceflag pricetype usdprice  \n",
       "52224  12.630556  39.034722  Sekota   0.0  forecast    Retail      0.0  \n",
       "52225  12.630556  39.034722  Sekota   0.0  forecast    Retail      0.0  \n",
       "52226  12.630556  39.034722  Sekota   0.0  forecast    Retail      0.0  \n",
       "52227  12.630556  39.034722  Sekota   0.0  forecast    Retail      0.0  \n",
       "52228  12.630556  39.034722  Sekota   0.0  forecast    Retail      0.0  "
      ]
     },
     "execution_count": 4,
     "metadata": {},
     "output_type": "execute_result"
    }
   ],
   "source": [
    "data.tail()# the last five rows"
   ]
  },
  {
   "cell_type": "code",
   "execution_count": 5,
   "id": "c9cd29e1",
   "metadata": {},
   "outputs": [
    {
     "data": {
      "text/plain": [
       "(52228, 12)"
      ]
     },
     "execution_count": 5,
     "metadata": {},
     "output_type": "execute_result"
    }
   ],
   "source": [
    "data.shape\n"
   ]
  },
  {
   "cell_type": "code",
   "execution_count": 6,
   "id": "c7d64f27",
   "metadata": {},
   "outputs": [
    {
     "data": {
      "text/plain": [
       "1       2000-01-15\n",
       "2       2000-01-15\n",
       "3       2000-01-15\n",
       "4       2000-01-15\n",
       "5       2000-01-15\n",
       "           ...    \n",
       "52224   2024-01-15\n",
       "52225   2024-01-15\n",
       "52226   2024-01-15\n",
       "52227   2024-01-15\n",
       "52228   2024-01-15\n",
       "Name: date, Length: 52228, dtype: datetime64[ns]"
      ]
     },
     "execution_count": 6,
     "metadata": {},
     "output_type": "execute_result"
    }
   ],
   "source": [
    "data['date']  = pd.to_datetime(data['date'])# changing the date from object to string format\n",
    "data['date']"
   ]
  },
  {
   "cell_type": "code",
   "execution_count": 7,
   "id": "0ddc3427",
   "metadata": {},
   "outputs": [
    {
     "data": {
      "text/html": [
       "<div>\n",
       "<style scoped>\n",
       "    .dataframe tbody tr th:only-of-type {\n",
       "        vertical-align: middle;\n",
       "    }\n",
       "\n",
       "    .dataframe tbody tr th {\n",
       "        vertical-align: top;\n",
       "    }\n",
       "\n",
       "    .dataframe thead th {\n",
       "        text-align: right;\n",
       "    }\n",
       "</style>\n",
       "<table border=\"1\" class=\"dataframe\">\n",
       "  <thead>\n",
       "    <tr style=\"text-align: right;\">\n",
       "      <th></th>\n",
       "      <th>admin1</th>\n",
       "      <th>admin2</th>\n",
       "      <th>category</th>\n",
       "      <th>commodity</th>\n",
       "      <th>date</th>\n",
       "      <th>latitude</th>\n",
       "      <th>longitude</th>\n",
       "      <th>market</th>\n",
       "      <th>price</th>\n",
       "      <th>priceflag</th>\n",
       "      <th>pricetype</th>\n",
       "      <th>usdprice</th>\n",
       "    </tr>\n",
       "  </thead>\n",
       "  <tbody>\n",
       "    <tr>\n",
       "      <th>15549</th>\n",
       "      <td>NaN</td>\n",
       "      <td>NaN</td>\n",
       "      <td>cereals and tubers</td>\n",
       "      <td>Teff (Sergegna)</td>\n",
       "      <td>2020-04-15</td>\n",
       "      <td>NaN</td>\n",
       "      <td>NaN</td>\n",
       "      <td>Bichena</td>\n",
       "      <td>3250.0</td>\n",
       "      <td>actual</td>\n",
       "      <td>Wholesale</td>\n",
       "      <td>98.1873</td>\n",
       "    </tr>\n",
       "    <tr>\n",
       "      <th>15550</th>\n",
       "      <td>NaN</td>\n",
       "      <td>NaN</td>\n",
       "      <td>cereals and tubers</td>\n",
       "      <td>Teff (white)</td>\n",
       "      <td>2020-04-15</td>\n",
       "      <td>NaN</td>\n",
       "      <td>NaN</td>\n",
       "      <td>Bichena</td>\n",
       "      <td>3550.0</td>\n",
       "      <td>actual</td>\n",
       "      <td>Wholesale</td>\n",
       "      <td>107.2508</td>\n",
       "    </tr>\n",
       "    <tr>\n",
       "      <th>18385</th>\n",
       "      <td>NaN</td>\n",
       "      <td>NaN</td>\n",
       "      <td>cereals and tubers</td>\n",
       "      <td>Maize (white)</td>\n",
       "      <td>2020-10-15</td>\n",
       "      <td>NaN</td>\n",
       "      <td>NaN</td>\n",
       "      <td>Bichena</td>\n",
       "      <td>1290.0</td>\n",
       "      <td>actual</td>\n",
       "      <td>Wholesale</td>\n",
       "      <td>35.0068</td>\n",
       "    </tr>\n",
       "    <tr>\n",
       "      <th>18386</th>\n",
       "      <td>NaN</td>\n",
       "      <td>NaN</td>\n",
       "      <td>cereals and tubers</td>\n",
       "      <td>Teff (Sergegna)</td>\n",
       "      <td>2020-10-15</td>\n",
       "      <td>NaN</td>\n",
       "      <td>NaN</td>\n",
       "      <td>Bichena</td>\n",
       "      <td>3665.0</td>\n",
       "      <td>actual</td>\n",
       "      <td>Wholesale</td>\n",
       "      <td>99.4573</td>\n",
       "    </tr>\n",
       "    <tr>\n",
       "      <th>18387</th>\n",
       "      <td>NaN</td>\n",
       "      <td>NaN</td>\n",
       "      <td>cereals and tubers</td>\n",
       "      <td>Teff (white)</td>\n",
       "      <td>2020-10-15</td>\n",
       "      <td>NaN</td>\n",
       "      <td>NaN</td>\n",
       "      <td>Bichena</td>\n",
       "      <td>4035.0</td>\n",
       "      <td>actual</td>\n",
       "      <td>Wholesale</td>\n",
       "      <td>109.498</td>\n",
       "    </tr>\n",
       "  </tbody>\n",
       "</table>\n",
       "</div>"
      ],
      "text/plain": [
       "      admin1 admin2            category        commodity       date latitude  \\\n",
       "15549    NaN    NaN  cereals and tubers  Teff (Sergegna) 2020-04-15      NaN   \n",
       "15550    NaN    NaN  cereals and tubers     Teff (white) 2020-04-15      NaN   \n",
       "18385    NaN    NaN  cereals and tubers    Maize (white) 2020-10-15      NaN   \n",
       "18386    NaN    NaN  cereals and tubers  Teff (Sergegna) 2020-10-15      NaN   \n",
       "18387    NaN    NaN  cereals and tubers     Teff (white) 2020-10-15      NaN   \n",
       "\n",
       "      longitude   market   price priceflag  pricetype  usdprice  \n",
       "15549       NaN  Bichena  3250.0    actual  Wholesale   98.1873  \n",
       "15550       NaN  Bichena  3550.0    actual  Wholesale  107.2508  \n",
       "18385       NaN  Bichena  1290.0    actual  Wholesale   35.0068  \n",
       "18386       NaN  Bichena  3665.0    actual  Wholesale   99.4573  \n",
       "18387       NaN  Bichena  4035.0    actual  Wholesale   109.498  "
      ]
     },
     "execution_count": 7,
     "metadata": {},
     "output_type": "execute_result"
    }
   ],
   "source": [
    "data[data.isnull().any(axis=1)]# the missing values in the dataset at any row "
   ]
  },
  {
   "cell_type": "code",
   "execution_count": 8,
   "id": "14e08850",
   "metadata": {},
   "outputs": [
    {
     "data": {
      "text/plain": [
       "1        38.749226\n",
       "2        38.749226\n",
       "3        38.749226\n",
       "4        38.749226\n",
       "5        37.383333\n",
       "           ...    \n",
       "52224    39.034722\n",
       "52225    39.034722\n",
       "52226    39.034722\n",
       "52227    39.034722\n",
       "52228    39.034722\n",
       "Name: longitude, Length: 52228, dtype: object"
      ]
     },
     "execution_count": 8,
     "metadata": {},
     "output_type": "execute_result"
    }
   ],
   "source": [
    "data.admin1 = data.admin1.fillna('Misrak Gojam')# now filling the null values data from internet \n",
    "data.admin1\n",
    "data.admin2 = data.admin2.fillna('Enemay woreda')\n",
    "data.admin2\n",
    "data.latitude = data.latitude.fillna(10.27)\n",
    "data.latitude\n",
    "data.longitude = data.longitude.fillna(38.12)\n",
    "data.longitude"
   ]
  },
  {
   "cell_type": "code",
   "execution_count": 10,
   "id": "fc3edd84",
   "metadata": {},
   "outputs": [
    {
     "data": {
      "text/plain": [
       "admin1       0\n",
       "admin2       0\n",
       "category     0\n",
       "commodity    0\n",
       "date         0\n",
       "latitude     0\n",
       "longitude    0\n",
       "market       0\n",
       "price        0\n",
       "priceflag    0\n",
       "pricetype    0\n",
       "usdprice     0\n",
       "dtype: int64"
      ]
     },
     "execution_count": 10,
     "metadata": {},
     "output_type": "execute_result"
    }
   ],
   "source": [
    "data.isnull().sum()#to check how many null values after filling the empty space\n"
   ]
  },
  {
   "cell_type": "code",
   "execution_count": 11,
   "id": "4833f662",
   "metadata": {},
   "outputs": [
    {
     "data": {
      "text/plain": [
       "admin1               object\n",
       "admin2               object\n",
       "category             object\n",
       "commodity            object\n",
       "date         datetime64[ns]\n",
       "latitude             object\n",
       "longitude            object\n",
       "market               object\n",
       "price                object\n",
       "priceflag            object\n",
       "pricetype            object\n",
       "usdprice             object\n",
       "dtype: object"
      ]
     },
     "execution_count": 11,
     "metadata": {},
     "output_type": "execute_result"
    }
   ],
   "source": [
    "data.dtypes# data types\n"
   ]
  },
  {
   "cell_type": "code",
   "execution_count": 12,
   "id": "d3b800fc",
   "metadata": {},
   "outputs": [
    {
     "data": {
      "text/plain": [
       "admin1               object\n",
       "admin2               object\n",
       "category             object\n",
       "commodity            object\n",
       "date         datetime64[ns]\n",
       "latitude            float64\n",
       "longitude           float64\n",
       "market               object\n",
       "price               float64\n",
       "priceflag            object\n",
       "pricetype            object\n",
       "usdprice            float64\n",
       "dtype: object"
      ]
     },
     "execution_count": 12,
     "metadata": {},
     "output_type": "execute_result"
    }
   ],
   "source": [
    "data['price'] = data.price.astype(float)#to change the price value from object to float\n",
    "data['usdprice']=data.usdprice.astype(float)\n",
    "data['latitude']=data.latitude.astype(float)\n",
    "data['longitude']=data.longitude.astype(float)\n",
    "data.dtypes"
   ]
  },
  {
   "cell_type": "code",
   "execution_count": 13,
   "id": "85ffa33b",
   "metadata": {},
   "outputs": [
    {
     "name": "stdout",
     "output_type": "stream",
     "text": [
      "checking Redundancy in each column\n",
      "The amount of redundent value in  price-> 45648\n",
      "The amount of redundent value in  pricetype-> 52226\n",
      "The amount of redundent value in  priceflag-> 52224\n",
      "The amount of redundent value in  commodity-> 52135\n",
      "The amount of redundent value in  category-> 52220\n",
      "The amount of redundent value in  market-> 52109\n",
      "The amount of redundent value in  date-> 51940\n",
      "The amount of redundent value in  admin2-> 52168\n",
      "The amount of redundent value in  admin1-> 52216\n",
      "The amount of redundent value in  usdprice-> 30950\n",
      "The amount of redundent value in  latitude-> 52111\n",
      "The amount of redundent value in  longitude-> 52113\n"
     ]
    }
   ],
   "source": [
    "print(\"checking Redundancy in each column\")\n",
    "column ={'price':data['price'].duplicated().sum(),\n",
    "         'pricetype':data['pricetype'].duplicated().sum(),\n",
    "         'priceflag':data['priceflag'].duplicated().sum(),\n",
    "         'commodity':data['commodity'].duplicated().sum(),\n",
    "         'category':data['category'].duplicated().sum(),\n",
    "         'market':data['market'].duplicated().sum(),\n",
    "         'date':data['date'].duplicated().sum(),\n",
    "         'admin2':data['admin2'].duplicated().sum(),\n",
    "         'admin1':data['admin1'].duplicated().sum(),\n",
    "         'usdprice':data['usdprice'].duplicated().sum(),\n",
    "         'latitude':data['latitude'].duplicated().sum(),\n",
    "         'longitude':data['longitude'].duplicated().sum()}\n",
    "for col, c_val in column.items():\n",
    "         print('The amount of redundent value in  '+ col +'-> ' + str(c_val) )\n",
    "        "
   ]
  },
  {
   "cell_type": "code",
   "execution_count": 14,
   "id": "06faed68",
   "metadata": {},
   "outputs": [
    {
     "name": "stdout",
     "output_type": "stream",
     "text": [
      "these are number of values in each column after removing the redundent values\n",
      "commodity: (93,)\n",
      "price: (6580,)\n",
      "usdprice: (21278,)\n",
      "pricetype :(2,)\n",
      "priceflag:(4,)\n",
      "latitude :(117,)\n",
      "longitude :(115,)\n",
      "market :(119,)\n",
      "admin1 :(12,)\n",
      "admin2 :(60,)\n",
      "category :(8,)\n",
      "date :(288,)\n"
     ]
    }
   ],
   "source": [
    "# we have seen how much all columns have redundent values, now all redundent values removed \n",
    "print(\"these are number of values in each column after removing the redundent values\")\n",
    "print(\"commodity: \" + str(data['commodity'].drop_duplicates().shape))\n",
    "print(\"price: \"+ str(data['price'].drop_duplicates().shape))\n",
    "print(\"usdprice: \"+ str(data['usdprice'].drop_duplicates().shape))\n",
    "print(\"pricetype :\" + str(data['pricetype'].drop_duplicates().shape))\n",
    "print(\"priceflag:\" + str(data['priceflag'].drop_duplicates().shape))\n",
    "print(\"latitude :\"+ str(data['latitude'].drop_duplicates().shape))\n",
    "print(\"longitude :\" + str(data['longitude'].drop_duplicates().shape))\n",
    "print(\"market :\" + str(data['market'].drop_duplicates().shape))\n",
    "print(\"admin1 :\"+ str(data['admin1'].drop_duplicates().shape))\n",
    "print(\"admin2 :\"+ str(data['admin2'].drop_duplicates().shape))\n",
    "print(\"category :\" + str(data['category'].drop_duplicates().shape))\n",
    "print(\"date :\" + str(data['date'].drop_duplicates().shape))"
   ]
  },
  {
   "cell_type": "code",
   "execution_count": 15,
   "id": "982a69e7",
   "metadata": {},
   "outputs": [
    {
     "data": {
      "text/plain": [
       "Index(['admin1', 'admin2', 'category', 'commodity', 'date', 'latitude',\n",
       "       'longitude', 'market', 'price', 'priceflag', 'pricetype', 'usdprice'],\n",
       "      dtype='object')"
      ]
     },
     "execution_count": 15,
     "metadata": {},
     "output_type": "execute_result"
    }
   ],
   "source": [
    "data.columns# list the name of columns"
   ]
  },
  {
   "cell_type": "code",
   "execution_count": 16,
   "id": "0679ed86",
   "metadata": {},
   "outputs": [
    {
     "data": {
      "text/plain": [
       "array([['Addis Ababa', 'AA ZONE1', 'cereals and tubers', ..., 'actual',\n",
       "        'Wholesale', 14.8372],\n",
       "       ['Addis Ababa', 'AA ZONE1', 'cereals and tubers', ..., 'actual',\n",
       "        'Wholesale', 23.0083],\n",
       "       ['Addis Ababa', 'AA ZONE1', 'cereals and tubers', ..., 'actual',\n",
       "        'Wholesale', 27.2782],\n",
       "       ...,\n",
       "       ['Amhara', 'W. HAMRA', 'vegetables and fruits', ..., 'forecast',\n",
       "        'Retail', 0.0],\n",
       "       ['Amhara', 'W. HAMRA', 'vegetables and fruits', ..., 'forecast',\n",
       "        'Retail', 0.0],\n",
       "       ['Amhara', 'W. HAMRA', 'vegetables and fruits', ..., 'forecast',\n",
       "        'Retail', 0.0]], dtype=object)"
      ]
     },
     "execution_count": 16,
     "metadata": {},
     "output_type": "execute_result"
    }
   ],
   "source": [
    "data[['category','priceflag','price']]# slicing multiple column from whole dataset\n",
    "  \n",
    "data.values# array or matrix form in general numpy representation"
   ]
  },
  {
   "cell_type": "markdown",
   "id": "85b3988c",
   "metadata": {},
   "source": [
    "# Summary statistics"
   ]
  },
  {
   "cell_type": "code",
   "execution_count": 17,
   "id": "2b3d0019",
   "metadata": {},
   "outputs": [
    {
     "data": {
      "text/plain": [
       "admin1               Addis Ababa\n",
       "admin2                  AA ZONE1\n",
       "category      cereals and tubers\n",
       "commodity               Avocados\n",
       "date         2000-01-15 00:00:00\n",
       "latitude                3.534996\n",
       "longitude              33.953408\n",
       "market                    Abaala\n",
       "price                        0.0\n",
       "priceflag                 actual\n",
       "pricetype                 Retail\n",
       "usdprice                     0.0\n",
       "dtype: object"
      ]
     },
     "execution_count": 17,
     "metadata": {},
     "output_type": "execute_result"
    }
   ],
   "source": [
    "data.min()"
   ]
  },
  {
   "cell_type": "code",
   "execution_count": 18,
   "id": "d5e2d73a",
   "metadata": {},
   "outputs": [
    {
     "data": {
      "text/plain": [
       "admin1                      Tigray\n",
       "admin2                       ZONE5\n",
       "category     vegetables and fruits\n",
       "commodity              Wheat flour\n",
       "date           2024-01-15 00:00:00\n",
       "latitude                  14.45405\n",
       "longitude                44.279701\n",
       "market                       Ziway\n",
       "price                      79000.0\n",
       "priceflag                 forecast\n",
       "pricetype                Wholesale\n",
       "usdprice                 1495.0795\n",
       "dtype: object"
      ]
     },
     "execution_count": 18,
     "metadata": {},
     "output_type": "execute_result"
    }
   ],
   "source": [
    "data.max()"
   ]
  },
  {
   "cell_type": "code",
   "execution_count": 19,
   "id": "9a571269",
   "metadata": {},
   "outputs": [
    {
     "data": {
      "text/plain": [
       "52228"
      ]
     },
     "execution_count": 19,
     "metadata": {},
     "output_type": "execute_result"
    }
   ],
   "source": [
    "data['price'].count()"
   ]
  },
  {
   "cell_type": "code",
   "execution_count": 20,
   "id": "f1ad781b",
   "metadata": {},
   "outputs": [
    {
     "name": "stdout",
     "output_type": "stream",
     "text": [
      "Retail       41882\n",
      "Wholesale    10346\n",
      "Name: pricetype, dtype: int64\n"
     ]
    }
   ],
   "source": [
    "print(data['pricetype'].value_counts(dropna=False))"
   ]
  },
  {
   "cell_type": "code",
   "execution_count": 21,
   "id": "7791cbbf",
   "metadata": {},
   "outputs": [
    {
     "name": "stdout",
     "output_type": "stream",
     "text": [
      "Oromia          16343\n",
      "Amhara          11141\n",
      "Somali           6998\n",
      "Tigray           5021\n",
      "SNNPR            3979\n",
      "Dire Dawa        2253\n",
      "Addis Ababa      2220\n",
      "Gambela          1506\n",
      "Harari           1110\n",
      "Afar             1087\n",
      "B. Gumuz          565\n",
      "Misrak Gojam        5\n",
      "Name: admin1, dtype: int64\n"
     ]
    }
   ],
   "source": [
    "print(data['admin1'].value_counts(dropna=False))#  it counts as it is\""
   ]
  },
  {
   "cell_type": "code",
   "execution_count": 23,
   "id": "2f7877cb",
   "metadata": {},
   "outputs": [
    {
     "name": "stderr",
     "output_type": "stream",
     "text": [
      "C:\\Users\\Remla\\AppData\\Local\\Temp/ipykernel_2776/4227235248.py:1: FutureWarning: Dropping of nuisance columns in DataFrame reductions (with 'numeric_only=None') is deprecated; in a future version this will raise TypeError.  Select only valid columns before calling the reduction.\n",
      "  data.sum(axis = 1)\n"
     ]
    },
    {
     "data": {
      "text/plain": [
       "1        183.360751\n",
       "2        258.031851\n",
       "3        297.051751\n",
       "4        237.258651\n",
       "5        178.675433\n",
       "            ...    \n",
       "52224     51.665278\n",
       "52225     51.665278\n",
       "52226     51.665278\n",
       "52227     51.665278\n",
       "52228     51.665278\n",
       "Length: 52228, dtype: float64"
      ]
     },
     "execution_count": 23,
     "metadata": {},
     "output_type": "execute_result"
    }
   ],
   "source": [
    "data.sum(axis = 1)"
   ]
  },
  {
   "cell_type": "code",
   "execution_count": 24,
   "id": "e113bb9c",
   "metadata": {},
   "outputs": [
    {
     "name": "stdout",
     "output_type": "stream",
     "text": [
      "92004066.2\n"
     ]
    }
   ],
   "source": [
    "print(data['price'].sum())"
   ]
  },
  {
   "cell_type": "code",
   "execution_count": 25,
   "id": "ac372d07",
   "metadata": {},
   "outputs": [
    {
     "data": {
      "text/html": [
       "<div>\n",
       "<style scoped>\n",
       "    .dataframe tbody tr th:only-of-type {\n",
       "        vertical-align: middle;\n",
       "    }\n",
       "\n",
       "    .dataframe tbody tr th {\n",
       "        vertical-align: top;\n",
       "    }\n",
       "\n",
       "    .dataframe thead th {\n",
       "        text-align: right;\n",
       "    }\n",
       "</style>\n",
       "<table border=\"1\" class=\"dataframe\">\n",
       "  <thead>\n",
       "    <tr style=\"text-align: right;\">\n",
       "      <th></th>\n",
       "      <th>admin1</th>\n",
       "      <th>admin2</th>\n",
       "      <th>category</th>\n",
       "      <th>commodity</th>\n",
       "      <th>date</th>\n",
       "      <th>latitude</th>\n",
       "      <th>longitude</th>\n",
       "      <th>market</th>\n",
       "      <th>price</th>\n",
       "      <th>priceflag</th>\n",
       "      <th>pricetype</th>\n",
       "      <th>usdprice</th>\n",
       "    </tr>\n",
       "  </thead>\n",
       "  <tbody>\n",
       "    <tr>\n",
       "      <th>52228</th>\n",
       "      <td>Amhara</td>\n",
       "      <td>W. HAMRA</td>\n",
       "      <td>vegetables and fruits</td>\n",
       "      <td>Tomatoes</td>\n",
       "      <td>2024-01-15</td>\n",
       "      <td>12.630556</td>\n",
       "      <td>39.034722</td>\n",
       "      <td>Sekota</td>\n",
       "      <td>0.0</td>\n",
       "      <td>forecast</td>\n",
       "      <td>Retail</td>\n",
       "      <td>0.0000</td>\n",
       "    </tr>\n",
       "    <tr>\n",
       "      <th>44410</th>\n",
       "      <td>Gambela</td>\n",
       "      <td>GODERE</td>\n",
       "      <td>meat, fish and eggs</td>\n",
       "      <td>Livestock (Sheep)</td>\n",
       "      <td>2022-08-15</td>\n",
       "      <td>7.233333</td>\n",
       "      <td>35.316667</td>\n",
       "      <td>Meti</td>\n",
       "      <td>0.0</td>\n",
       "      <td>forecast</td>\n",
       "      <td>Retail</td>\n",
       "      <td>0.0000</td>\n",
       "    </tr>\n",
       "    <tr>\n",
       "      <th>44409</th>\n",
       "      <td>Gambela</td>\n",
       "      <td>GODERE</td>\n",
       "      <td>cereals and tubers</td>\n",
       "      <td>Sorghum (white)</td>\n",
       "      <td>2022-08-15</td>\n",
       "      <td>7.233333</td>\n",
       "      <td>35.316667</td>\n",
       "      <td>Meti</td>\n",
       "      <td>0.0</td>\n",
       "      <td>forecast</td>\n",
       "      <td>Retail</td>\n",
       "      <td>0.0000</td>\n",
       "    </tr>\n",
       "    <tr>\n",
       "      <th>44408</th>\n",
       "      <td>Gambela</td>\n",
       "      <td>GODERE</td>\n",
       "      <td>cereals and tubers</td>\n",
       "      <td>Maize (white)</td>\n",
       "      <td>2022-08-15</td>\n",
       "      <td>7.233333</td>\n",
       "      <td>35.316667</td>\n",
       "      <td>Meti</td>\n",
       "      <td>0.0</td>\n",
       "      <td>forecast</td>\n",
       "      <td>Retail</td>\n",
       "      <td>0.0000</td>\n",
       "    </tr>\n",
       "    <tr>\n",
       "      <th>44407</th>\n",
       "      <td>Dire Dawa</td>\n",
       "      <td>DIRE DAWA</td>\n",
       "      <td>pulses and nuts</td>\n",
       "      <td>Peas (split, dry)</td>\n",
       "      <td>2022-08-15</td>\n",
       "      <td>9.593056</td>\n",
       "      <td>41.866111</td>\n",
       "      <td>Diredawa</td>\n",
       "      <td>0.0</td>\n",
       "      <td>forecast</td>\n",
       "      <td>Retail</td>\n",
       "      <td>0.0000</td>\n",
       "    </tr>\n",
       "    <tr>\n",
       "      <th>...</th>\n",
       "      <td>...</td>\n",
       "      <td>...</td>\n",
       "      <td>...</td>\n",
       "      <td>...</td>\n",
       "      <td>...</td>\n",
       "      <td>...</td>\n",
       "      <td>...</td>\n",
       "      <td>...</td>\n",
       "      <td>...</td>\n",
       "      <td>...</td>\n",
       "      <td>...</td>\n",
       "      <td>...</td>\n",
       "    </tr>\n",
       "    <tr>\n",
       "      <th>32712</th>\n",
       "      <td>Somali</td>\n",
       "      <td>LIBEN</td>\n",
       "      <td>meat, fish and eggs</td>\n",
       "      <td>Livestock (camel)</td>\n",
       "      <td>2022-10-15</td>\n",
       "      <td>5.112714</td>\n",
       "      <td>40.654339</td>\n",
       "      <td>Filtu</td>\n",
       "      <td>69500.0</td>\n",
       "      <td>actual</td>\n",
       "      <td>Retail</td>\n",
       "      <td>1318.0641</td>\n",
       "    </tr>\n",
       "    <tr>\n",
       "      <th>37012</th>\n",
       "      <td>Somali</td>\n",
       "      <td>JIJIGA</td>\n",
       "      <td>meat, fish and eggs</td>\n",
       "      <td>Livestock (camel)</td>\n",
       "      <td>2023-05-15</td>\n",
       "      <td>9.333300</td>\n",
       "      <td>42.816670</td>\n",
       "      <td>Jijiga</td>\n",
       "      <td>70000.0</td>\n",
       "      <td>actual</td>\n",
       "      <td>Retail</td>\n",
       "      <td>1292.3758</td>\n",
       "    </tr>\n",
       "    <tr>\n",
       "      <th>32697</th>\n",
       "      <td>Somali</td>\n",
       "      <td>LIBEN</td>\n",
       "      <td>meat, fish and eggs</td>\n",
       "      <td>Livestock (camel)</td>\n",
       "      <td>2022-10-15</td>\n",
       "      <td>4.416665</td>\n",
       "      <td>41.416665</td>\n",
       "      <td>Dolo Ado</td>\n",
       "      <td>72000.0</td>\n",
       "      <td>actual</td>\n",
       "      <td>Retail</td>\n",
       "      <td>1365.4764</td>\n",
       "    </tr>\n",
       "    <tr>\n",
       "      <th>35999</th>\n",
       "      <td>Tigray</td>\n",
       "      <td>NW. TIGRAY</td>\n",
       "      <td>meat, fish and eggs</td>\n",
       "      <td>Livestock (ox)</td>\n",
       "      <td>2023-03-15</td>\n",
       "      <td>14.100000</td>\n",
       "      <td>38.283332</td>\n",
       "      <td>Shire</td>\n",
       "      <td>72500.0</td>\n",
       "      <td>actual</td>\n",
       "      <td>Retail</td>\n",
       "      <td>1351.3513</td>\n",
       "    </tr>\n",
       "    <tr>\n",
       "      <th>33276</th>\n",
       "      <td>Somali</td>\n",
       "      <td>LIBEN</td>\n",
       "      <td>meat, fish and eggs</td>\n",
       "      <td>Livestock (camel)</td>\n",
       "      <td>2022-11-15</td>\n",
       "      <td>4.416665</td>\n",
       "      <td>41.416665</td>\n",
       "      <td>Dolo Ado</td>\n",
       "      <td>79000.0</td>\n",
       "      <td>actual</td>\n",
       "      <td>Retail</td>\n",
       "      <td>1495.0795</td>\n",
       "    </tr>\n",
       "  </tbody>\n",
       "</table>\n",
       "<p>52228 rows × 12 columns</p>\n",
       "</div>"
      ],
      "text/plain": [
       "          admin1      admin2               category          commodity  \\\n",
       "52228     Amhara    W. HAMRA  vegetables and fruits           Tomatoes   \n",
       "44410    Gambela      GODERE    meat, fish and eggs  Livestock (Sheep)   \n",
       "44409    Gambela      GODERE     cereals and tubers    Sorghum (white)   \n",
       "44408    Gambela      GODERE     cereals and tubers      Maize (white)   \n",
       "44407  Dire Dawa   DIRE DAWA        pulses and nuts  Peas (split, dry)   \n",
       "...          ...         ...                    ...                ...   \n",
       "32712     Somali       LIBEN    meat, fish and eggs  Livestock (camel)   \n",
       "37012     Somali      JIJIGA    meat, fish and eggs  Livestock (camel)   \n",
       "32697     Somali       LIBEN    meat, fish and eggs  Livestock (camel)   \n",
       "35999     Tigray  NW. TIGRAY    meat, fish and eggs     Livestock (ox)   \n",
       "33276     Somali       LIBEN    meat, fish and eggs  Livestock (camel)   \n",
       "\n",
       "            date   latitude  longitude    market    price priceflag pricetype  \\\n",
       "52228 2024-01-15  12.630556  39.034722    Sekota      0.0  forecast    Retail   \n",
       "44410 2022-08-15   7.233333  35.316667      Meti      0.0  forecast    Retail   \n",
       "44409 2022-08-15   7.233333  35.316667      Meti      0.0  forecast    Retail   \n",
       "44408 2022-08-15   7.233333  35.316667      Meti      0.0  forecast    Retail   \n",
       "44407 2022-08-15   9.593056  41.866111  Diredawa      0.0  forecast    Retail   \n",
       "...          ...        ...        ...       ...      ...       ...       ...   \n",
       "32712 2022-10-15   5.112714  40.654339     Filtu  69500.0    actual    Retail   \n",
       "37012 2023-05-15   9.333300  42.816670    Jijiga  70000.0    actual    Retail   \n",
       "32697 2022-10-15   4.416665  41.416665  Dolo Ado  72000.0    actual    Retail   \n",
       "35999 2023-03-15  14.100000  38.283332     Shire  72500.0    actual    Retail   \n",
       "33276 2022-11-15   4.416665  41.416665  Dolo Ado  79000.0    actual    Retail   \n",
       "\n",
       "        usdprice  \n",
       "52228     0.0000  \n",
       "44410     0.0000  \n",
       "44409     0.0000  \n",
       "44408     0.0000  \n",
       "44407     0.0000  \n",
       "...          ...  \n",
       "32712  1318.0641  \n",
       "37012  1292.3758  \n",
       "32697  1365.4764  \n",
       "35999  1351.3513  \n",
       "33276  1495.0795  \n",
       "\n",
       "[52228 rows x 12 columns]"
      ]
     },
     "execution_count": 25,
     "metadata": {},
     "output_type": "execute_result"
    }
   ],
   "source": [
    "data.sort_values('price')# sorting / ordering by price"
   ]
  },
  {
   "cell_type": "code",
   "execution_count": 26,
   "id": "d5514e32",
   "metadata": {},
   "outputs": [
    {
     "data": {
      "text/html": [
       "<div>\n",
       "<style scoped>\n",
       "    .dataframe tbody tr th:only-of-type {\n",
       "        vertical-align: middle;\n",
       "    }\n",
       "\n",
       "    .dataframe tbody tr th {\n",
       "        vertical-align: top;\n",
       "    }\n",
       "\n",
       "    .dataframe thead th {\n",
       "        text-align: right;\n",
       "    }\n",
       "</style>\n",
       "<table border=\"1\" class=\"dataframe\">\n",
       "  <thead>\n",
       "    <tr style=\"text-align: right;\">\n",
       "      <th></th>\n",
       "      <th>latitude</th>\n",
       "      <th>longitude</th>\n",
       "      <th>price</th>\n",
       "      <th>usdprice</th>\n",
       "    </tr>\n",
       "  </thead>\n",
       "  <tbody>\n",
       "    <tr>\n",
       "      <th>count</th>\n",
       "      <td>52228.000000</td>\n",
       "      <td>52228.000000</td>\n",
       "      <td>52228.000000</td>\n",
       "      <td>52228.000000</td>\n",
       "    </tr>\n",
       "    <tr>\n",
       "      <th>mean</th>\n",
       "      <td>9.355737</td>\n",
       "      <td>39.720935</td>\n",
       "      <td>1761.585092</td>\n",
       "      <td>42.311195</td>\n",
       "    </tr>\n",
       "    <tr>\n",
       "      <th>std</th>\n",
       "      <td>2.481022</td>\n",
       "      <td>1.993778</td>\n",
       "      <td>3953.123194</td>\n",
       "      <td>81.933369</td>\n",
       "    </tr>\n",
       "    <tr>\n",
       "      <th>min</th>\n",
       "      <td>3.534996</td>\n",
       "      <td>33.953408</td>\n",
       "      <td>0.000000</td>\n",
       "      <td>0.000000</td>\n",
       "    </tr>\n",
       "    <tr>\n",
       "      <th>25%</th>\n",
       "      <td>7.666667</td>\n",
       "      <td>38.466667</td>\n",
       "      <td>2.400000</td>\n",
       "      <td>0.180775</td>\n",
       "    </tr>\n",
       "    <tr>\n",
       "      <th>50%</th>\n",
       "      <td>9.225556</td>\n",
       "      <td>39.633300</td>\n",
       "      <td>203.875000</td>\n",
       "      <td>8.951600</td>\n",
       "    </tr>\n",
       "    <tr>\n",
       "      <th>75%</th>\n",
       "      <td>11.133333</td>\n",
       "      <td>41.416670</td>\n",
       "      <td>2235.500000</td>\n",
       "      <td>56.603800</td>\n",
       "    </tr>\n",
       "    <tr>\n",
       "      <th>max</th>\n",
       "      <td>14.454050</td>\n",
       "      <td>44.279701</td>\n",
       "      <td>79000.000000</td>\n",
       "      <td>1495.079500</td>\n",
       "    </tr>\n",
       "  </tbody>\n",
       "</table>\n",
       "</div>"
      ],
      "text/plain": [
       "           latitude     longitude         price      usdprice\n",
       "count  52228.000000  52228.000000  52228.000000  52228.000000\n",
       "mean       9.355737     39.720935   1761.585092     42.311195\n",
       "std        2.481022      1.993778   3953.123194     81.933369\n",
       "min        3.534996     33.953408      0.000000      0.000000\n",
       "25%        7.666667     38.466667      2.400000      0.180775\n",
       "50%        9.225556     39.633300    203.875000      8.951600\n",
       "75%       11.133333     41.416670   2235.500000     56.603800\n",
       "max       14.454050     44.279701  79000.000000   1495.079500"
      ]
     },
     "execution_count": 26,
     "metadata": {},
     "output_type": "execute_result"
    }
   ],
   "source": [
    "data.describe()"
   ]
  },
  {
   "cell_type": "code",
   "execution_count": 27,
   "id": "702b4b5d",
   "metadata": {},
   "outputs": [
    {
     "data": {
      "text/html": [
       "<div>\n",
       "<style scoped>\n",
       "    .dataframe tbody tr th:only-of-type {\n",
       "        vertical-align: middle;\n",
       "    }\n",
       "\n",
       "    .dataframe tbody tr th {\n",
       "        vertical-align: top;\n",
       "    }\n",
       "\n",
       "    .dataframe thead th {\n",
       "        text-align: right;\n",
       "    }\n",
       "</style>\n",
       "<table border=\"1\" class=\"dataframe\">\n",
       "  <thead>\n",
       "    <tr style=\"text-align: right;\">\n",
       "      <th></th>\n",
       "      <th>latitude</th>\n",
       "      <th>longitude</th>\n",
       "      <th>price</th>\n",
       "      <th>usdprice</th>\n",
       "    </tr>\n",
       "  </thead>\n",
       "  <tbody>\n",
       "    <tr>\n",
       "      <th>latitude</th>\n",
       "      <td>6.155469</td>\n",
       "      <td>-0.579623</td>\n",
       "      <td>-3.837919e+01</td>\n",
       "      <td>-0.368248</td>\n",
       "    </tr>\n",
       "    <tr>\n",
       "      <th>longitude</th>\n",
       "      <td>-0.579623</td>\n",
       "      <td>3.975151</td>\n",
       "      <td>3.681252e+02</td>\n",
       "      <td>5.102115</td>\n",
       "    </tr>\n",
       "    <tr>\n",
       "      <th>price</th>\n",
       "      <td>-38.379186</td>\n",
       "      <td>368.125241</td>\n",
       "      <td>1.562718e+07</td>\n",
       "      <td>317138.111407</td>\n",
       "    </tr>\n",
       "    <tr>\n",
       "      <th>usdprice</th>\n",
       "      <td>-0.368248</td>\n",
       "      <td>5.102115</td>\n",
       "      <td>3.171381e+05</td>\n",
       "      <td>6713.076968</td>\n",
       "    </tr>\n",
       "  </tbody>\n",
       "</table>\n",
       "</div>"
      ],
      "text/plain": [
       "            latitude   longitude         price       usdprice\n",
       "latitude    6.155469   -0.579623 -3.837919e+01      -0.368248\n",
       "longitude  -0.579623    3.975151  3.681252e+02       5.102115\n",
       "price     -38.379186  368.125241  1.562718e+07  317138.111407\n",
       "usdprice   -0.368248    5.102115  3.171381e+05    6713.076968"
      ]
     },
     "execution_count": 27,
     "metadata": {},
     "output_type": "execute_result"
    }
   ],
   "source": [
    "data.cov()#calculating the covariance\\n\""
   ]
  },
  {
   "cell_type": "code",
   "execution_count": 28,
   "id": "58420596",
   "metadata": {},
   "outputs": [
    {
     "data": {
      "text/plain": [
       "0.9791455927887034"
      ]
     },
     "execution_count": 28,
     "metadata": {},
     "output_type": "execute_result"
    }
   ],
   "source": [
    "\n",
    "data[\"price\"].corr(data[\"usdprice\"])# the correlation between latitude and longitude\""
   ]
  },
  {
   "cell_type": "code",
   "execution_count": 29,
   "id": "c8973e24",
   "metadata": {},
   "outputs": [
    {
     "data": {
      "text/plain": [
       "1099.436328928047"
      ]
     },
     "execution_count": 29,
     "metadata": {},
     "output_type": "execute_result"
    }
   ],
   "source": [
    "data[data.commodity==\"Teff\"].price.mean()# the mean value of teff price to see as an example"
   ]
  },
  {
   "cell_type": "markdown",
   "id": "40a2750d",
   "metadata": {},
   "source": [
    "# aggregation or computing summary statistic for each group"
   ]
  },
  {
   "cell_type": "code",
   "execution_count": 30,
   "id": "2ff2df53",
   "metadata": {},
   "outputs": [
    {
     "data": {
      "text/html": [
       "<div>\n",
       "<style scoped>\n",
       "    .dataframe tbody tr th:only-of-type {\n",
       "        vertical-align: middle;\n",
       "    }\n",
       "\n",
       "    .dataframe tbody tr th {\n",
       "        vertical-align: top;\n",
       "    }\n",
       "\n",
       "    .dataframe thead th {\n",
       "        text-align: right;\n",
       "    }\n",
       "</style>\n",
       "<table border=\"1\" class=\"dataframe\">\n",
       "  <thead>\n",
       "    <tr style=\"text-align: right;\">\n",
       "      <th></th>\n",
       "      <th>commodity</th>\n",
       "      <th>category</th>\n",
       "    </tr>\n",
       "  </thead>\n",
       "  <tbody>\n",
       "    <tr>\n",
       "      <th>min</th>\n",
       "      <td>Avocados</td>\n",
       "      <td>cereals and tubers</td>\n",
       "    </tr>\n",
       "    <tr>\n",
       "      <th>max</th>\n",
       "      <td>Wheat flour</td>\n",
       "      <td>vegetables and fruits</td>\n",
       "    </tr>\n",
       "  </tbody>\n",
       "</table>\n",
       "</div>"
      ],
      "text/plain": [
       "       commodity               category\n",
       "min     Avocados     cereals and tubers\n",
       "max  Wheat flour  vegetables and fruits"
      ]
     },
     "execution_count": 30,
     "metadata": {},
     "output_type": "execute_result"
    }
   ],
   "source": [
    "data[['commodity','category']].agg(['min','max'])"
   ]
  },
  {
   "cell_type": "code",
   "execution_count": 31,
   "id": "afc3269d",
   "metadata": {},
   "outputs": [
    {
     "data": {
      "text/html": [
       "<div>\n",
       "<style scoped>\n",
       "    .dataframe tbody tr th:only-of-type {\n",
       "        vertical-align: middle;\n",
       "    }\n",
       "\n",
       "    .dataframe tbody tr th {\n",
       "        vertical-align: top;\n",
       "    }\n",
       "\n",
       "    .dataframe thead th {\n",
       "        text-align: right;\n",
       "    }\n",
       "</style>\n",
       "<table border=\"1\" class=\"dataframe\">\n",
       "  <thead>\n",
       "    <tr style=\"text-align: right;\">\n",
       "      <th></th>\n",
       "      <th>admin1</th>\n",
       "      <th>admin2</th>\n",
       "      <th>category</th>\n",
       "      <th>commodity</th>\n",
       "      <th>date</th>\n",
       "      <th>latitude</th>\n",
       "      <th>longitude</th>\n",
       "      <th>market</th>\n",
       "      <th>price</th>\n",
       "      <th>priceflag</th>\n",
       "      <th>pricetype</th>\n",
       "      <th>usdprice</th>\n",
       "    </tr>\n",
       "  </thead>\n",
       "  <tbody>\n",
       "    <tr>\n",
       "      <th>36598</th>\n",
       "      <td>Amhara</td>\n",
       "      <td>S. GONDER</td>\n",
       "      <td>vegetables and fruits</td>\n",
       "      <td>Avocados</td>\n",
       "      <td>2023-05-15</td>\n",
       "      <td>11.733333</td>\n",
       "      <td>38.466665</td>\n",
       "      <td>Nefas Mewcha</td>\n",
       "      <td>70.0</td>\n",
       "      <td>actual</td>\n",
       "      <td>Retail</td>\n",
       "      <td>1.2924</td>\n",
       "    </tr>\n",
       "    <tr>\n",
       "      <th>18585</th>\n",
       "      <td>Amhara</td>\n",
       "      <td>S. WELLO</td>\n",
       "      <td>vegetables and fruits</td>\n",
       "      <td>Avocados</td>\n",
       "      <td>2020-10-15</td>\n",
       "      <td>11.229990</td>\n",
       "      <td>39.063251</td>\n",
       "      <td>Masha</td>\n",
       "      <td>35.0</td>\n",
       "      <td>actual</td>\n",
       "      <td>Retail</td>\n",
       "      <td>0.9498</td>\n",
       "    </tr>\n",
       "    <tr>\n",
       "      <th>18568</th>\n",
       "      <td>Amhara</td>\n",
       "      <td>S. WELLO</td>\n",
       "      <td>vegetables and fruits</td>\n",
       "      <td>Avocados</td>\n",
       "      <td>2020-10-15</td>\n",
       "      <td>10.922545</td>\n",
       "      <td>39.784135</td>\n",
       "      <td>Harbu</td>\n",
       "      <td>35.0</td>\n",
       "      <td>actual</td>\n",
       "      <td>Retail</td>\n",
       "      <td>0.9498</td>\n",
       "    </tr>\n",
       "    <tr>\n",
       "      <th>20504</th>\n",
       "      <td>Amhara</td>\n",
       "      <td>S. WELLO</td>\n",
       "      <td>vegetables and fruits</td>\n",
       "      <td>Avocados</td>\n",
       "      <td>2021-01-15</td>\n",
       "      <td>10.922545</td>\n",
       "      <td>39.784135</td>\n",
       "      <td>Harbu</td>\n",
       "      <td>40.0</td>\n",
       "      <td>actual</td>\n",
       "      <td>Retail</td>\n",
       "      <td>1.0204</td>\n",
       "    </tr>\n",
       "    <tr>\n",
       "      <th>32280</th>\n",
       "      <td>Amhara</td>\n",
       "      <td>S. GONDER</td>\n",
       "      <td>vegetables and fruits</td>\n",
       "      <td>Avocados</td>\n",
       "      <td>2022-10-15</td>\n",
       "      <td>11.733333</td>\n",
       "      <td>38.466665</td>\n",
       "      <td>Nefas Mewcha</td>\n",
       "      <td>65.0</td>\n",
       "      <td>actual</td>\n",
       "      <td>Retail</td>\n",
       "      <td>1.2327</td>\n",
       "    </tr>\n",
       "    <tr>\n",
       "      <th>17965</th>\n",
       "      <td>Amhara</td>\n",
       "      <td>S. WELLO</td>\n",
       "      <td>vegetables and fruits</td>\n",
       "      <td>Avocados</td>\n",
       "      <td>2020-09-15</td>\n",
       "      <td>11.229990</td>\n",
       "      <td>39.063251</td>\n",
       "      <td>Masha</td>\n",
       "      <td>35.0</td>\n",
       "      <td>actual</td>\n",
       "      <td>Retail</td>\n",
       "      <td>0.9607</td>\n",
       "    </tr>\n",
       "    <tr>\n",
       "      <th>19233</th>\n",
       "      <td>Amhara</td>\n",
       "      <td>S. WELLO</td>\n",
       "      <td>vegetables and fruits</td>\n",
       "      <td>Avocados</td>\n",
       "      <td>2020-11-15</td>\n",
       "      <td>10.922545</td>\n",
       "      <td>39.784135</td>\n",
       "      <td>Harbu</td>\n",
       "      <td>30.0</td>\n",
       "      <td>actual</td>\n",
       "      <td>Retail</td>\n",
       "      <td>0.7937</td>\n",
       "    </tr>\n",
       "    <tr>\n",
       "      <th>18600</th>\n",
       "      <td>Amhara</td>\n",
       "      <td>S. WELLO</td>\n",
       "      <td>vegetables and fruits</td>\n",
       "      <td>Avocados</td>\n",
       "      <td>2020-10-15</td>\n",
       "      <td>11.102048</td>\n",
       "      <td>39.627170</td>\n",
       "      <td>Segno Gebeya</td>\n",
       "      <td>25.0</td>\n",
       "      <td>actual</td>\n",
       "      <td>Retail</td>\n",
       "      <td>0.6784</td>\n",
       "    </tr>\n",
       "    <tr>\n",
       "      <th>27383</th>\n",
       "      <td>Amhara</td>\n",
       "      <td>N. WELLO</td>\n",
       "      <td>vegetables and fruits</td>\n",
       "      <td>Avocados</td>\n",
       "      <td>2022-03-15</td>\n",
       "      <td>11.666251</td>\n",
       "      <td>39.657650</td>\n",
       "      <td>Mersa</td>\n",
       "      <td>35.0</td>\n",
       "      <td>actual</td>\n",
       "      <td>Retail</td>\n",
       "      <td>0.6890</td>\n",
       "    </tr>\n",
       "    <tr>\n",
       "      <th>16467</th>\n",
       "      <td>Amhara</td>\n",
       "      <td>N. WELLO</td>\n",
       "      <td>vegetables and fruits</td>\n",
       "      <td>Avocados</td>\n",
       "      <td>2020-06-15</td>\n",
       "      <td>12.150000</td>\n",
       "      <td>39.633333</td>\n",
       "      <td>Kobo</td>\n",
       "      <td>40.0</td>\n",
       "      <td>actual</td>\n",
       "      <td>Retail</td>\n",
       "      <td>1.1662</td>\n",
       "    </tr>\n",
       "  </tbody>\n",
       "</table>\n",
       "</div>"
      ],
      "text/plain": [
       "       admin1     admin2               category commodity       date  \\\n",
       "36598  Amhara  S. GONDER  vegetables and fruits  Avocados 2023-05-15   \n",
       "18585  Amhara   S. WELLO  vegetables and fruits  Avocados 2020-10-15   \n",
       "18568  Amhara   S. WELLO  vegetables and fruits  Avocados 2020-10-15   \n",
       "20504  Amhara   S. WELLO  vegetables and fruits  Avocados 2021-01-15   \n",
       "32280  Amhara  S. GONDER  vegetables and fruits  Avocados 2022-10-15   \n",
       "17965  Amhara   S. WELLO  vegetables and fruits  Avocados 2020-09-15   \n",
       "19233  Amhara   S. WELLO  vegetables and fruits  Avocados 2020-11-15   \n",
       "18600  Amhara   S. WELLO  vegetables and fruits  Avocados 2020-10-15   \n",
       "27383  Amhara   N. WELLO  vegetables and fruits  Avocados 2022-03-15   \n",
       "16467  Amhara   N. WELLO  vegetables and fruits  Avocados 2020-06-15   \n",
       "\n",
       "        latitude  longitude        market  price priceflag pricetype  usdprice  \n",
       "36598  11.733333  38.466665  Nefas Mewcha   70.0    actual    Retail    1.2924  \n",
       "18585  11.229990  39.063251         Masha   35.0    actual    Retail    0.9498  \n",
       "18568  10.922545  39.784135         Harbu   35.0    actual    Retail    0.9498  \n",
       "20504  10.922545  39.784135         Harbu   40.0    actual    Retail    1.0204  \n",
       "32280  11.733333  38.466665  Nefas Mewcha   65.0    actual    Retail    1.2327  \n",
       "17965  11.229990  39.063251         Masha   35.0    actual    Retail    0.9607  \n",
       "19233  10.922545  39.784135         Harbu   30.0    actual    Retail    0.7937  \n",
       "18600  11.102048  39.627170  Segno Gebeya   25.0    actual    Retail    0.6784  \n",
       "27383  11.666251  39.657650         Mersa   35.0    actual    Retail    0.6890  \n",
       "16467  12.150000  39.633333          Kobo   40.0    actual    Retail    1.1662  "
      ]
     },
     "execution_count": 31,
     "metadata": {},
     "output_type": "execute_result"
    }
   ],
   "source": [
    "data.sort_values('commodity').head(10)# sorting the commodity and displaying the first ten rows"
   ]
  },
  {
   "cell_type": "code",
   "execution_count": 32,
   "id": "270c285e",
   "metadata": {},
   "outputs": [
    {
     "data": {
      "text/html": [
       "<div>\n",
       "<style scoped>\n",
       "    .dataframe tbody tr th:only-of-type {\n",
       "        vertical-align: middle;\n",
       "    }\n",
       "\n",
       "    .dataframe tbody tr th {\n",
       "        vertical-align: top;\n",
       "    }\n",
       "\n",
       "    .dataframe thead th {\n",
       "        text-align: right;\n",
       "    }\n",
       "</style>\n",
       "<table border=\"1\" class=\"dataframe\">\n",
       "  <thead>\n",
       "    <tr style=\"text-align: right;\">\n",
       "      <th></th>\n",
       "      <th>price</th>\n",
       "    </tr>\n",
       "    <tr>\n",
       "      <th>priceflag</th>\n",
       "      <th></th>\n",
       "    </tr>\n",
       "  </thead>\n",
       "  <tbody>\n",
       "    <tr>\n",
       "      <th>actual</th>\n",
       "      <td>0.88</td>\n",
       "    </tr>\n",
       "    <tr>\n",
       "      <th>actual,aggregate</th>\n",
       "      <td>25.50</td>\n",
       "    </tr>\n",
       "    <tr>\n",
       "      <th>aggregate</th>\n",
       "      <td>5.27</td>\n",
       "    </tr>\n",
       "    <tr>\n",
       "      <th>forecast</th>\n",
       "      <td>0.00</td>\n",
       "    </tr>\n",
       "  </tbody>\n",
       "</table>\n",
       "</div>"
      ],
      "text/plain": [
       "                  price\n",
       "priceflag              \n",
       "actual             0.88\n",
       "actual,aggregate  25.50\n",
       "aggregate          5.27\n",
       "forecast           0.00"
      ]
     },
     "execution_count": 32,
     "metadata": {},
     "output_type": "execute_result"
    }
   ],
   "source": [
    "data.groupby('priceflag')[['price']].min() #using the minimum price it is grouping the price flag"
   ]
  },
  {
   "cell_type": "code",
   "execution_count": 33,
   "id": "03153a26",
   "metadata": {},
   "outputs": [
    {
     "data": {
      "text/html": [
       "<div>\n",
       "<style scoped>\n",
       "    .dataframe tbody tr th:only-of-type {\n",
       "        vertical-align: middle;\n",
       "    }\n",
       "\n",
       "    .dataframe tbody tr th {\n",
       "        vertical-align: top;\n",
       "    }\n",
       "\n",
       "    .dataframe thead th {\n",
       "        text-align: right;\n",
       "    }\n",
       "</style>\n",
       "<table border=\"1\" class=\"dataframe\">\n",
       "  <thead>\n",
       "    <tr style=\"text-align: right;\">\n",
       "      <th></th>\n",
       "      <th>admin1</th>\n",
       "      <th>admin2</th>\n",
       "      <th>category</th>\n",
       "      <th>commodity</th>\n",
       "      <th>date</th>\n",
       "      <th>latitude</th>\n",
       "      <th>longitude</th>\n",
       "      <th>market</th>\n",
       "      <th>price</th>\n",
       "      <th>priceflag</th>\n",
       "      <th>pricetype</th>\n",
       "      <th>usdprice</th>\n",
       "    </tr>\n",
       "  </thead>\n",
       "  <tbody>\n",
       "    <tr>\n",
       "      <th>8796</th>\n",
       "      <td>Addis Ababa</td>\n",
       "      <td>AA ZONE1</td>\n",
       "      <td>non-food</td>\n",
       "      <td>Exchange rate</td>\n",
       "      <td>2014-04-15</td>\n",
       "      <td>9.024325</td>\n",
       "      <td>38.749226</td>\n",
       "      <td>Addis Ababa</td>\n",
       "      <td>19.36</td>\n",
       "      <td>actual</td>\n",
       "      <td>Retail</td>\n",
       "      <td>1.0053</td>\n",
       "    </tr>\n",
       "    <tr>\n",
       "      <th>8797</th>\n",
       "      <td>Addis Ababa</td>\n",
       "      <td>AA ZONE1</td>\n",
       "      <td>non-food</td>\n",
       "      <td>Fuel (diesel)</td>\n",
       "      <td>2014-04-15</td>\n",
       "      <td>9.024325</td>\n",
       "      <td>38.749226</td>\n",
       "      <td>Addis Ababa</td>\n",
       "      <td>18.55</td>\n",
       "      <td>actual</td>\n",
       "      <td>Retail</td>\n",
       "      <td>0.9633</td>\n",
       "    </tr>\n",
       "    <tr>\n",
       "      <th>8798</th>\n",
       "      <td>Addis Ababa</td>\n",
       "      <td>AA ZONE1</td>\n",
       "      <td>non-food</td>\n",
       "      <td>Fuel (kerosene)</td>\n",
       "      <td>2014-04-15</td>\n",
       "      <td>9.024325</td>\n",
       "      <td>38.749226</td>\n",
       "      <td>Addis Ababa</td>\n",
       "      <td>15.75</td>\n",
       "      <td>actual</td>\n",
       "      <td>Retail</td>\n",
       "      <td>0.8179</td>\n",
       "    </tr>\n",
       "    <tr>\n",
       "      <th>8799</th>\n",
       "      <td>Addis Ababa</td>\n",
       "      <td>AA ZONE1</td>\n",
       "      <td>non-food</td>\n",
       "      <td>Fuel (petrol-gasoline)</td>\n",
       "      <td>2014-04-15</td>\n",
       "      <td>9.024325</td>\n",
       "      <td>38.749226</td>\n",
       "      <td>Addis Ababa</td>\n",
       "      <td>20.47</td>\n",
       "      <td>actual</td>\n",
       "      <td>Retail</td>\n",
       "      <td>1.0630</td>\n",
       "    </tr>\n",
       "    <tr>\n",
       "      <th>8941</th>\n",
       "      <td>Addis Ababa</td>\n",
       "      <td>AA ZONE1</td>\n",
       "      <td>non-food</td>\n",
       "      <td>Exchange rate</td>\n",
       "      <td>2014-05-15</td>\n",
       "      <td>9.024325</td>\n",
       "      <td>38.749226</td>\n",
       "      <td>Addis Ababa</td>\n",
       "      <td>19.43</td>\n",
       "      <td>actual</td>\n",
       "      <td>Retail</td>\n",
       "      <td>1.0048</td>\n",
       "    </tr>\n",
       "  </tbody>\n",
       "</table>\n",
       "</div>"
      ],
      "text/plain": [
       "           admin1    admin2  category               commodity       date  \\\n",
       "8796  Addis Ababa  AA ZONE1  non-food           Exchange rate 2014-04-15   \n",
       "8797  Addis Ababa  AA ZONE1  non-food           Fuel (diesel) 2014-04-15   \n",
       "8798  Addis Ababa  AA ZONE1  non-food         Fuel (kerosene) 2014-04-15   \n",
       "8799  Addis Ababa  AA ZONE1  non-food  Fuel (petrol-gasoline) 2014-04-15   \n",
       "8941  Addis Ababa  AA ZONE1  non-food           Exchange rate 2014-05-15   \n",
       "\n",
       "      latitude  longitude       market  price priceflag pricetype  usdprice  \n",
       "8796  9.024325  38.749226  Addis Ababa  19.36    actual    Retail    1.0053  \n",
       "8797  9.024325  38.749226  Addis Ababa  18.55    actual    Retail    0.9633  \n",
       "8798  9.024325  38.749226  Addis Ababa  15.75    actual    Retail    0.8179  \n",
       "8799  9.024325  38.749226  Addis Ababa  20.47    actual    Retail    1.0630  \n",
       "8941  9.024325  38.749226  Addis Ababa  19.43    actual    Retail    1.0048  "
      ]
     },
     "execution_count": 33,
     "metadata": {},
     "output_type": "execute_result"
    }
   ],
   "source": [
    "data_subset = data[data['category'] =='non-food']# this is filtering or subsetting the \\n\",\n",
    "                                                 #data based on boolean less, greater equal , not equal, greater or equal\\n\",\n",
    "data_subset.head()\n",
    "  "
   ]
  },
  {
   "cell_type": "code",
   "execution_count": 34,
   "id": "310ae66c",
   "metadata": {},
   "outputs": [
    {
     "data": {
      "text/html": [
       "<div>\n",
       "<style scoped>\n",
       "    .dataframe tbody tr th:only-of-type {\n",
       "        vertical-align: middle;\n",
       "    }\n",
       "\n",
       "    .dataframe tbody tr th {\n",
       "        vertical-align: top;\n",
       "    }\n",
       "\n",
       "    .dataframe thead th {\n",
       "        text-align: right;\n",
       "    }\n",
       "</style>\n",
       "<table border=\"1\" class=\"dataframe\">\n",
       "  <thead>\n",
       "    <tr style=\"text-align: right;\">\n",
       "      <th></th>\n",
       "      <th>category</th>\n",
       "      <th>commodity</th>\n",
       "      <th>date</th>\n",
       "    </tr>\n",
       "  </thead>\n",
       "  <tbody>\n",
       "    <tr>\n",
       "      <th>4</th>\n",
       "      <td>cereals and tubers</td>\n",
       "      <td>Wheat</td>\n",
       "      <td>2000-01-15</td>\n",
       "    </tr>\n",
       "    <tr>\n",
       "      <th>5</th>\n",
       "      <td>cereals and tubers</td>\n",
       "      <td>Maize (white)</td>\n",
       "      <td>2000-01-15</td>\n",
       "    </tr>\n",
       "    <tr>\n",
       "      <th>6</th>\n",
       "      <td>cereals and tubers</td>\n",
       "      <td>Maize (white)</td>\n",
       "      <td>2000-01-15</td>\n",
       "    </tr>\n",
       "  </tbody>\n",
       "</table>\n",
       "</div>"
      ],
      "text/plain": [
       "             category      commodity       date\n",
       "4  cereals and tubers          Wheat 2000-01-15\n",
       "5  cereals and tubers  Maize (white) 2000-01-15\n",
       "6  cereals and tubers  Maize (white) 2000-01-15"
      ]
     },
     "execution_count": 34,
     "metadata": {},
     "output_type": "execute_result"
    }
   ],
   "source": [
    "#what about if we select rows with its specific labels we use the method loc \n",
    "data.iloc[3:6,2:5]"
   ]
  },
  {
   "cell_type": "code",
   "execution_count": 35,
   "id": "e8358fd6",
   "metadata": {},
   "outputs": [
    {
     "data": {
      "text/html": [
       "<div>\n",
       "<style scoped>\n",
       "    .dataframe tbody tr th:only-of-type {\n",
       "        vertical-align: middle;\n",
       "    }\n",
       "\n",
       "    .dataframe tbody tr th {\n",
       "        vertical-align: top;\n",
       "    }\n",
       "\n",
       "    .dataframe thead th {\n",
       "        text-align: right;\n",
       "    }\n",
       "</style>\n",
       "<table border=\"1\" class=\"dataframe\">\n",
       "  <thead>\n",
       "    <tr style=\"text-align: right;\">\n",
       "      <th></th>\n",
       "      <th>date</th>\n",
       "      <th>market</th>\n",
       "      <th>category</th>\n",
       "    </tr>\n",
       "  </thead>\n",
       "  <tbody>\n",
       "    <tr>\n",
       "      <th>10</th>\n",
       "      <td>2000-02-15</td>\n",
       "      <td>Addis Ababa</td>\n",
       "      <td>cereals and tubers</td>\n",
       "    </tr>\n",
       "    <tr>\n",
       "      <th>11</th>\n",
       "      <td>2000-02-15</td>\n",
       "      <td>Addis Ababa</td>\n",
       "      <td>cereals and tubers</td>\n",
       "    </tr>\n",
       "    <tr>\n",
       "      <th>12</th>\n",
       "      <td>2000-02-15</td>\n",
       "      <td>Baher Dar</td>\n",
       "      <td>cereals and tubers</td>\n",
       "    </tr>\n",
       "    <tr>\n",
       "      <th>13</th>\n",
       "      <td>2000-02-15</td>\n",
       "      <td>Diredawa</td>\n",
       "      <td>cereals and tubers</td>\n",
       "    </tr>\n",
       "    <tr>\n",
       "      <th>14</th>\n",
       "      <td>2000-02-15</td>\n",
       "      <td>Mekele</td>\n",
       "      <td>cereals and tubers</td>\n",
       "    </tr>\n",
       "    <tr>\n",
       "      <th>15</th>\n",
       "      <td>2000-03-15</td>\n",
       "      <td>Addis Ababa</td>\n",
       "      <td>cereals and tubers</td>\n",
       "    </tr>\n",
       "    <tr>\n",
       "      <th>16</th>\n",
       "      <td>2000-03-15</td>\n",
       "      <td>Addis Ababa</td>\n",
       "      <td>cereals and tubers</td>\n",
       "    </tr>\n",
       "    <tr>\n",
       "      <th>17</th>\n",
       "      <td>2000-03-15</td>\n",
       "      <td>Addis Ababa</td>\n",
       "      <td>cereals and tubers</td>\n",
       "    </tr>\n",
       "    <tr>\n",
       "      <th>18</th>\n",
       "      <td>2000-03-15</td>\n",
       "      <td>Addis Ababa</td>\n",
       "      <td>cereals and tubers</td>\n",
       "    </tr>\n",
       "    <tr>\n",
       "      <th>19</th>\n",
       "      <td>2000-03-15</td>\n",
       "      <td>Baher Dar</td>\n",
       "      <td>cereals and tubers</td>\n",
       "    </tr>\n",
       "    <tr>\n",
       "      <th>20</th>\n",
       "      <td>2000-03-15</td>\n",
       "      <td>Diredawa</td>\n",
       "      <td>cereals and tubers</td>\n",
       "    </tr>\n",
       "  </tbody>\n",
       "</table>\n",
       "</div>"
      ],
      "text/plain": [
       "         date       market            category\n",
       "10 2000-02-15  Addis Ababa  cereals and tubers\n",
       "11 2000-02-15  Addis Ababa  cereals and tubers\n",
       "12 2000-02-15    Baher Dar  cereals and tubers\n",
       "13 2000-02-15     Diredawa  cereals and tubers\n",
       "14 2000-02-15       Mekele  cereals and tubers\n",
       "15 2000-03-15  Addis Ababa  cereals and tubers\n",
       "16 2000-03-15  Addis Ababa  cereals and tubers\n",
       "17 2000-03-15  Addis Ababa  cereals and tubers\n",
       "18 2000-03-15  Addis Ababa  cereals and tubers\n",
       "19 2000-03-15    Baher Dar  cereals and tubers\n",
       "20 2000-03-15     Diredawa  cereals and tubers"
      ]
     },
     "execution_count": 35,
     "metadata": {},
     "output_type": "execute_result"
    }
   ],
   "source": [
    "data.loc[10:20,['date','market','category']]"
   ]
  },
  {
   "cell_type": "code",
   "execution_count": 36,
   "id": "01520b3b",
   "metadata": {},
   "outputs": [
    {
     "data": {
      "text/html": [
       "<div>\n",
       "<style scoped>\n",
       "    .dataframe tbody tr th:only-of-type {\n",
       "        vertical-align: middle;\n",
       "    }\n",
       "\n",
       "    .dataframe tbody tr th {\n",
       "        vertical-align: top;\n",
       "    }\n",
       "\n",
       "    .dataframe thead th {\n",
       "        text-align: right;\n",
       "    }\n",
       "</style>\n",
       "<table border=\"1\" class=\"dataframe\">\n",
       "  <thead>\n",
       "    <tr style=\"text-align: right;\">\n",
       "      <th></th>\n",
       "      <th>date</th>\n",
       "      <th>commodity</th>\n",
       "      <th>price</th>\n",
       "      <th>admin1</th>\n",
       "    </tr>\n",
       "  </thead>\n",
       "  <tbody>\n",
       "    <tr>\n",
       "      <th>50</th>\n",
       "      <td>2000-08-15</td>\n",
       "      <td>Maize (white)</td>\n",
       "      <td>125.75</td>\n",
       "      <td>Addis Ababa</td>\n",
       "    </tr>\n",
       "    <tr>\n",
       "      <th>51</th>\n",
       "      <td>2000-08-15</td>\n",
       "      <td>Sorghum (white)</td>\n",
       "      <td>216.25</td>\n",
       "      <td>Addis Ababa</td>\n",
       "    </tr>\n",
       "    <tr>\n",
       "      <th>52</th>\n",
       "      <td>2000-08-15</td>\n",
       "      <td>Teff</td>\n",
       "      <td>249.75</td>\n",
       "      <td>Addis Ababa</td>\n",
       "    </tr>\n",
       "    <tr>\n",
       "      <th>53</th>\n",
       "      <td>2000-08-15</td>\n",
       "      <td>Wheat</td>\n",
       "      <td>205.00</td>\n",
       "      <td>Addis Ababa</td>\n",
       "    </tr>\n",
       "    <tr>\n",
       "      <th>54</th>\n",
       "      <td>2000-08-15</td>\n",
       "      <td>Maize (white)</td>\n",
       "      <td>106.25</td>\n",
       "      <td>Amhara</td>\n",
       "    </tr>\n",
       "    <tr>\n",
       "      <th>55</th>\n",
       "      <td>2000-08-15</td>\n",
       "      <td>Maize (white)</td>\n",
       "      <td>147.25</td>\n",
       "      <td>Dire Dawa</td>\n",
       "    </tr>\n",
       "  </tbody>\n",
       "</table>\n",
       "</div>"
      ],
      "text/plain": [
       "         date        commodity   price       admin1\n",
       "50 2000-08-15    Maize (white)  125.75  Addis Ababa\n",
       "51 2000-08-15  Sorghum (white)  216.25  Addis Ababa\n",
       "52 2000-08-15             Teff  249.75  Addis Ababa\n",
       "53 2000-08-15            Wheat  205.00  Addis Ababa\n",
       "54 2000-08-15    Maize (white)  106.25       Amhara\n",
       "55 2000-08-15    Maize (white)  147.25    Dire Dawa"
      ]
     },
     "execution_count": 36,
     "metadata": {},
     "output_type": "execute_result"
    }
   ],
   "source": [
    "data.loc[50:55,['date','commodity','price','admin1']]# to see the distribution as an example\""
   ]
  },
  {
   "cell_type": "code",
   "execution_count": 37,
   "id": "d8b19467",
   "metadata": {},
   "outputs": [
    {
     "data": {
      "text/html": [
       "<div>\n",
       "<style scoped>\n",
       "    .dataframe tbody tr th:only-of-type {\n",
       "        vertical-align: middle;\n",
       "    }\n",
       "\n",
       "    .dataframe tbody tr th {\n",
       "        vertical-align: top;\n",
       "    }\n",
       "\n",
       "    .dataframe thead th {\n",
       "        text-align: right;\n",
       "    }\n",
       "</style>\n",
       "<table border=\"1\" class=\"dataframe\">\n",
       "  <thead>\n",
       "    <tr style=\"text-align: right;\">\n",
       "      <th></th>\n",
       "      <th>admin1</th>\n",
       "      <th>commodity</th>\n",
       "      <th>longitude</th>\n",
       "    </tr>\n",
       "  </thead>\n",
       "  <tbody>\n",
       "    <tr>\n",
       "      <th>11</th>\n",
       "      <td>Addis Ababa</td>\n",
       "      <td>Wheat</td>\n",
       "      <td>38.749226</td>\n",
       "    </tr>\n",
       "    <tr>\n",
       "      <th>12</th>\n",
       "      <td>Amhara</td>\n",
       "      <td>Maize (white)</td>\n",
       "      <td>37.383333</td>\n",
       "    </tr>\n",
       "    <tr>\n",
       "      <th>13</th>\n",
       "      <td>Dire Dawa</td>\n",
       "      <td>Maize (white)</td>\n",
       "      <td>41.866111</td>\n",
       "    </tr>\n",
       "    <tr>\n",
       "      <th>14</th>\n",
       "      <td>Tigray</td>\n",
       "      <td>Maize (white)</td>\n",
       "      <td>39.475278</td>\n",
       "    </tr>\n",
       "    <tr>\n",
       "      <th>15</th>\n",
       "      <td>Addis Ababa</td>\n",
       "      <td>Maize (white)</td>\n",
       "      <td>38.749226</td>\n",
       "    </tr>\n",
       "    <tr>\n",
       "      <th>16</th>\n",
       "      <td>Addis Ababa</td>\n",
       "      <td>Sorghum (white)</td>\n",
       "      <td>38.749226</td>\n",
       "    </tr>\n",
       "    <tr>\n",
       "      <th>17</th>\n",
       "      <td>Addis Ababa</td>\n",
       "      <td>Teff</td>\n",
       "      <td>38.749226</td>\n",
       "    </tr>\n",
       "    <tr>\n",
       "      <th>18</th>\n",
       "      <td>Addis Ababa</td>\n",
       "      <td>Wheat</td>\n",
       "      <td>38.749226</td>\n",
       "    </tr>\n",
       "    <tr>\n",
       "      <th>19</th>\n",
       "      <td>Amhara</td>\n",
       "      <td>Maize (white)</td>\n",
       "      <td>37.383333</td>\n",
       "    </tr>\n",
       "    <tr>\n",
       "      <th>20</th>\n",
       "      <td>Dire Dawa</td>\n",
       "      <td>Maize (white)</td>\n",
       "      <td>41.866111</td>\n",
       "    </tr>\n",
       "  </tbody>\n",
       "</table>\n",
       "</div>"
      ],
      "text/plain": [
       "         admin1        commodity  longitude\n",
       "11  Addis Ababa            Wheat  38.749226\n",
       "12       Amhara    Maize (white)  37.383333\n",
       "13    Dire Dawa    Maize (white)  41.866111\n",
       "14       Tigray    Maize (white)  39.475278\n",
       "15  Addis Ababa    Maize (white)  38.749226\n",
       "16  Addis Ababa  Sorghum (white)  38.749226\n",
       "17  Addis Ababa             Teff  38.749226\n",
       "18  Addis Ababa            Wheat  38.749226\n",
       "19       Amhara    Maize (white)  37.383333\n",
       "20    Dire Dawa    Maize (white)  41.866111"
      ]
     },
     "execution_count": 37,
     "metadata": {},
     "output_type": "execute_result"
    }
   ],
   "source": [
    "data.iloc[10:20,[0,3,6]]# the same to loc but it uses index location or position here we use the column names index\"\n"
   ]
  },
  {
   "cell_type": "code",
   "execution_count": 38,
   "id": "bd2d5153",
   "metadata": {},
   "outputs": [
    {
     "data": {
      "text/html": [
       "<div>\n",
       "<style scoped>\n",
       "    .dataframe tbody tr th:only-of-type {\n",
       "        vertical-align: middle;\n",
       "    }\n",
       "\n",
       "    .dataframe tbody tr th {\n",
       "        vertical-align: top;\n",
       "    }\n",
       "\n",
       "    .dataframe thead th {\n",
       "        text-align: right;\n",
       "    }\n",
       "</style>\n",
       "<table border=\"1\" class=\"dataframe\">\n",
       "  <thead>\n",
       "    <tr style=\"text-align: right;\">\n",
       "      <th></th>\n",
       "      <th>admin1</th>\n",
       "      <th>admin2</th>\n",
       "      <th>category</th>\n",
       "    </tr>\n",
       "  </thead>\n",
       "  <tbody>\n",
       "    <tr>\n",
       "      <th>1</th>\n",
       "      <td>Addis Ababa</td>\n",
       "      <td>AA ZONE1</td>\n",
       "      <td>cereals and tubers</td>\n",
       "    </tr>\n",
       "    <tr>\n",
       "      <th>2</th>\n",
       "      <td>Addis Ababa</td>\n",
       "      <td>AA ZONE1</td>\n",
       "      <td>cereals and tubers</td>\n",
       "    </tr>\n",
       "    <tr>\n",
       "      <th>3</th>\n",
       "      <td>Addis Ababa</td>\n",
       "      <td>AA ZONE1</td>\n",
       "      <td>cereals and tubers</td>\n",
       "    </tr>\n",
       "    <tr>\n",
       "      <th>4</th>\n",
       "      <td>Addis Ababa</td>\n",
       "      <td>AA ZONE1</td>\n",
       "      <td>cereals and tubers</td>\n",
       "    </tr>\n",
       "    <tr>\n",
       "      <th>5</th>\n",
       "      <td>Amhara</td>\n",
       "      <td>Administrative unit not available</td>\n",
       "      <td>cereals and tubers</td>\n",
       "    </tr>\n",
       "    <tr>\n",
       "      <th>...</th>\n",
       "      <td>...</td>\n",
       "      <td>...</td>\n",
       "      <td>...</td>\n",
       "    </tr>\n",
       "    <tr>\n",
       "      <th>52224</th>\n",
       "      <td>Amhara</td>\n",
       "      <td>W. HAMRA</td>\n",
       "      <td>oil and fats</td>\n",
       "    </tr>\n",
       "    <tr>\n",
       "      <th>52225</th>\n",
       "      <td>Amhara</td>\n",
       "      <td>W. HAMRA</td>\n",
       "      <td>pulses and nuts</td>\n",
       "    </tr>\n",
       "    <tr>\n",
       "      <th>52226</th>\n",
       "      <td>Amhara</td>\n",
       "      <td>W. HAMRA</td>\n",
       "      <td>vegetables and fruits</td>\n",
       "    </tr>\n",
       "    <tr>\n",
       "      <th>52227</th>\n",
       "      <td>Amhara</td>\n",
       "      <td>W. HAMRA</td>\n",
       "      <td>vegetables and fruits</td>\n",
       "    </tr>\n",
       "    <tr>\n",
       "      <th>52228</th>\n",
       "      <td>Amhara</td>\n",
       "      <td>W. HAMRA</td>\n",
       "      <td>vegetables and fruits</td>\n",
       "    </tr>\n",
       "  </tbody>\n",
       "</table>\n",
       "<p>52228 rows × 3 columns</p>\n",
       "</div>"
      ],
      "text/plain": [
       "            admin1                             admin2               category\n",
       "1      Addis Ababa                           AA ZONE1     cereals and tubers\n",
       "2      Addis Ababa                           AA ZONE1     cereals and tubers\n",
       "3      Addis Ababa                           AA ZONE1     cereals and tubers\n",
       "4      Addis Ababa                           AA ZONE1     cereals and tubers\n",
       "5           Amhara  Administrative unit not available     cereals and tubers\n",
       "...            ...                                ...                    ...\n",
       "52224       Amhara                           W. HAMRA           oil and fats\n",
       "52225       Amhara                           W. HAMRA        pulses and nuts\n",
       "52226       Amhara                           W. HAMRA  vegetables and fruits\n",
       "52227       Amhara                           W. HAMRA  vegetables and fruits\n",
       "52228       Amhara                           W. HAMRA  vegetables and fruits\n",
       "\n",
       "[52228 rows x 3 columns]"
      ]
     },
     "execution_count": 38,
     "metadata": {},
     "output_type": "execute_result"
    }
   ],
   "source": [
    "data.iloc[:,0:3]# all rows and first three columns\""
   ]
  },
  {
   "cell_type": "code",
   "execution_count": 39,
   "id": "aabfb4c2",
   "metadata": {},
   "outputs": [
    {
     "data": {
      "text/html": [
       "<div>\n",
       "<style scoped>\n",
       "    .dataframe tbody tr th:only-of-type {\n",
       "        vertical-align: middle;\n",
       "    }\n",
       "\n",
       "    .dataframe tbody tr th {\n",
       "        vertical-align: top;\n",
       "    }\n",
       "\n",
       "    .dataframe thead th {\n",
       "        text-align: right;\n",
       "    }\n",
       "</style>\n",
       "<table border=\"1\" class=\"dataframe\">\n",
       "  <thead>\n",
       "    <tr style=\"text-align: right;\">\n",
       "      <th></th>\n",
       "      <th>admin1</th>\n",
       "      <th>admin2</th>\n",
       "      <th>category</th>\n",
       "      <th>commodity</th>\n",
       "      <th>date</th>\n",
       "      <th>latitude</th>\n",
       "      <th>longitude</th>\n",
       "      <th>market</th>\n",
       "      <th>price</th>\n",
       "      <th>priceflag</th>\n",
       "      <th>pricetype</th>\n",
       "      <th>usdprice</th>\n",
       "    </tr>\n",
       "  </thead>\n",
       "  <tbody>\n",
       "    <tr>\n",
       "      <th>2</th>\n",
       "      <td>Addis Ababa</td>\n",
       "      <td>AA ZONE1</td>\n",
       "      <td>cereals and tubers</td>\n",
       "      <td>Sorghum (white)</td>\n",
       "      <td>2000-01-15</td>\n",
       "      <td>9.024325</td>\n",
       "      <td>38.749226</td>\n",
       "      <td>Addis Ababa</td>\n",
       "      <td>187.25</td>\n",
       "      <td>actual</td>\n",
       "      <td>Wholesale</td>\n",
       "      <td>23.0083</td>\n",
       "    </tr>\n",
       "    <tr>\n",
       "      <th>3</th>\n",
       "      <td>Addis Ababa</td>\n",
       "      <td>AA ZONE1</td>\n",
       "      <td>cereals and tubers</td>\n",
       "      <td>Teff</td>\n",
       "      <td>2000-01-15</td>\n",
       "      <td>9.024325</td>\n",
       "      <td>38.749226</td>\n",
       "      <td>Addis Ababa</td>\n",
       "      <td>222.00</td>\n",
       "      <td>actual</td>\n",
       "      <td>Wholesale</td>\n",
       "      <td>27.2782</td>\n",
       "    </tr>\n",
       "  </tbody>\n",
       "</table>\n",
       "</div>"
      ],
      "text/plain": [
       "        admin1    admin2            category        commodity       date  \\\n",
       "2  Addis Ababa  AA ZONE1  cereals and tubers  Sorghum (white) 2000-01-15   \n",
       "3  Addis Ababa  AA ZONE1  cereals and tubers             Teff 2000-01-15   \n",
       "\n",
       "   latitude  longitude       market   price priceflag  pricetype  usdprice  \n",
       "2  9.024325  38.749226  Addis Ababa  187.25    actual  Wholesale   23.0083  \n",
       "3  9.024325  38.749226  Addis Ababa  222.00    actual  Wholesale   27.2782  "
      ]
     },
     "execution_count": 39,
     "metadata": {},
     "output_type": "execute_result"
    }
   ],
   "source": [
    "data.iloc[1:3,:]# 1st row or index one's row up to index 3 doesn't include index 3\""
   ]
  },
  {
   "cell_type": "code",
   "execution_count": 39,
   "id": "ed8f8f6e",
   "metadata": {},
   "outputs": [
    {
     "data": {
      "text/plain": [
       "array(['Maize (white)', 'Sorghum (white)', 'Teff', 'Wheat',\n",
       "       'Sorghum (red)', 'Sorghum', 'Pasta', 'Rice (imported)', 'Lentils',\n",
       "       'Beans (fava, dry)', 'Peas (green, dry)', 'Milk', 'Sugar',\n",
       "       'Chickpeas', 'Exchange rate', 'Fuel (diesel)', 'Fuel (kerosene)',\n",
       "       'Fuel (petrol-gasoline)', 'Wheat flour', 'Barley',\n",
       "       'Sweet potatoes', 'Beans (haricot)', 'Livestock (Goat)',\n",
       "       'Livestock (Sheep)', 'Wage (non-qualified labour)',\n",
       "       'Corn Soy Blend (CSB++, food aid)', 'Exchange rate (unofficial)',\n",
       "       'Pasta (macaroni)', 'Rice', 'Teff (white)', 'Wheat (white)',\n",
       "       'Livestock (camel)', 'Livestock (cattle)', 'Oil (palm)', 'Garlic',\n",
       "       'Onions', 'Tomatoes', 'Potatoes', 'Milk (camel)',\n",
       "       'Wage (casual labour)', 'Butter (cow milk)', 'Butter (goat milk)',\n",
       "       'Teff (red)', 'Livestock (donkey)', 'Oil (vegetable)',\n",
       "       'Teff (mixed)', 'Wheat (mixed)', 'Beans (fava)', 'Peas',\n",
       "       'Maize (yellow)', 'Livestock (ox)', 'Bananas', 'Cabbage',\n",
       "       'Carrots', 'Kale', 'Lettuce', 'Mangoes', 'Oranges', 'Papaya',\n",
       "       'Peppers (green)', 'Coffee', 'Avocados', 'Guava',\n",
       "       'Millet (finger)', 'Niger seed', 'Sesame',\n",
       "       'Wage (qualified labour)', 'Groundnuts', 'Livestock (bull)',\n",
       "       'Peas (split, dry)', 'Honey', 'Beans', 'Potatoes (Irish)', 'Taro',\n",
       "       'Maize (food aid)', 'Wheat (food aid)', 'Sorghum (food aid)',\n",
       "       'Barley (white)', 'Sorghum (mixed)', 'Teff (Sergegna)', 'Lin seed',\n",
       "       'Rape seed', 'Peas (mixed)', 'Beans (haricot, white)',\n",
       "       'Barley (mixed)', 'Beans (haricot, red)', 'Beans (mung)', 'Eggs',\n",
       "       'Meat', 'Beetroots', 'Swiss chard', 'Pasta (spaghetti)', 'Kocho'],\n",
       "      dtype=object)"
      ]
     },
     "execution_count": 39,
     "metadata": {},
     "output_type": "execute_result"
    }
   ],
   "source": [
    "data.commodity.unique()# array format of the total record of commodity with out redundency"
   ]
  },
  {
   "cell_type": "code",
   "execution_count": 40,
   "id": "e00a7bda",
   "metadata": {},
   "outputs": [
    {
     "data": {
      "text/html": [
       "<div>\n",
       "<style scoped>\n",
       "    .dataframe tbody tr th:only-of-type {\n",
       "        vertical-align: middle;\n",
       "    }\n",
       "\n",
       "    .dataframe tbody tr th {\n",
       "        vertical-align: top;\n",
       "    }\n",
       "\n",
       "    .dataframe thead th {\n",
       "        text-align: right;\n",
       "    }\n",
       "</style>\n",
       "<table border=\"1\" class=\"dataframe\">\n",
       "  <thead>\n",
       "    <tr style=\"text-align: right;\">\n",
       "      <th></th>\n",
       "      <th></th>\n",
       "      <th>price</th>\n",
       "    </tr>\n",
       "    <tr>\n",
       "      <th>pricetype</th>\n",
       "      <th>commodity</th>\n",
       "      <th></th>\n",
       "    </tr>\n",
       "  </thead>\n",
       "  <tbody>\n",
       "    <tr>\n",
       "      <th rowspan=\"5\" valign=\"top\">Wholesale</th>\n",
       "      <th>Teff (Sergegna)</th>\n",
       "      <td>1498662.75</td>\n",
       "    </tr>\n",
       "    <tr>\n",
       "      <th>Maize (white)</th>\n",
       "      <td>1481963.80</td>\n",
       "    </tr>\n",
       "    <tr>\n",
       "      <th>Teff (white)</th>\n",
       "      <td>1464195.83</td>\n",
       "    </tr>\n",
       "    <tr>\n",
       "      <th>Wheat</th>\n",
       "      <td>1403339.04</td>\n",
       "    </tr>\n",
       "    <tr>\n",
       "      <th>Teff (red)</th>\n",
       "      <td>1064864.88</td>\n",
       "    </tr>\n",
       "    <tr>\n",
       "      <th>...</th>\n",
       "      <th>...</th>\n",
       "      <td>...</td>\n",
       "    </tr>\n",
       "    <tr>\n",
       "      <th rowspan=\"5\" valign=\"top\">Retail</th>\n",
       "      <th>Pasta (macaroni)</th>\n",
       "      <td>118.00</td>\n",
       "    </tr>\n",
       "    <tr>\n",
       "      <th>Wage (non-qualified labour)</th>\n",
       "      <td>70.00</td>\n",
       "    </tr>\n",
       "    <tr>\n",
       "      <th>Taro</th>\n",
       "      <td>29.00</td>\n",
       "    </tr>\n",
       "    <tr>\n",
       "      <th>Kocho</th>\n",
       "      <td>20.00</td>\n",
       "    </tr>\n",
       "    <tr>\n",
       "      <th>Potatoes (Irish)</th>\n",
       "      <td>10.00</td>\n",
       "    </tr>\n",
       "  </tbody>\n",
       "</table>\n",
       "<p>108 rows × 1 columns</p>\n",
       "</div>"
      ],
      "text/plain": [
       "                                            price\n",
       "pricetype commodity                              \n",
       "Wholesale Teff (Sergegna)              1498662.75\n",
       "          Maize (white)                1481963.80\n",
       "          Teff (white)                 1464195.83\n",
       "          Wheat                        1403339.04\n",
       "          Teff (red)                   1064864.88\n",
       "...                                           ...\n",
       "Retail    Pasta (macaroni)                 118.00\n",
       "          Wage (non-qualified labour)       70.00\n",
       "          Taro                              29.00\n",
       "          Kocho                             20.00\n",
       "          Potatoes (Irish)                  10.00\n",
       "\n",
       "[108 rows x 1 columns]"
      ]
     },
     "execution_count": 40,
     "metadata": {},
     "output_type": "execute_result"
    }
   ],
   "source": [
    "#grouping the price type and commodity\\n\",\n",
    "comm_pricetype=pd.DataFrame(data.groupby(['pricetype','commodity']).sum()['price'])\n",
    "comm_pricetype.sort_values(['pricetype','price'],ascending=False)\n",
    "  "
   ]
  },
  {
   "cell_type": "code",
   "execution_count": 41,
   "id": "d692f5d7",
   "metadata": {},
   "outputs": [
    {
     "data": {
      "text/html": [
       "<div>\n",
       "<style scoped>\n",
       "    .dataframe tbody tr th:only-of-type {\n",
       "        vertical-align: middle;\n",
       "    }\n",
       "\n",
       "    .dataframe tbody tr th {\n",
       "        vertical-align: top;\n",
       "    }\n",
       "\n",
       "    .dataframe thead th {\n",
       "        text-align: right;\n",
       "    }\n",
       "</style>\n",
       "<table border=\"1\" class=\"dataframe\">\n",
       "  <thead>\n",
       "    <tr style=\"text-align: right;\">\n",
       "      <th></th>\n",
       "      <th>price</th>\n",
       "    </tr>\n",
       "    <tr>\n",
       "      <th>commodity</th>\n",
       "      <th></th>\n",
       "    </tr>\n",
       "  </thead>\n",
       "  <tbody>\n",
       "    <tr>\n",
       "      <th>Maize (white)</th>\n",
       "      <td>7500034.63</td>\n",
       "    </tr>\n",
       "    <tr>\n",
       "      <th>Livestock (camel)</th>\n",
       "      <td>6866473.00</td>\n",
       "    </tr>\n",
       "    <tr>\n",
       "      <th>Livestock (bull)</th>\n",
       "      <td>6776585.00</td>\n",
       "    </tr>\n",
       "    <tr>\n",
       "      <th>Livestock (cattle)</th>\n",
       "      <td>6283952.49</td>\n",
       "    </tr>\n",
       "    <tr>\n",
       "      <th>Lentils</th>\n",
       "      <td>5157866.25</td>\n",
       "    </tr>\n",
       "    <tr>\n",
       "      <th>Livestock (ox)</th>\n",
       "      <td>5010022.71</td>\n",
       "    </tr>\n",
       "    <tr>\n",
       "      <th>Livestock (Goat)</th>\n",
       "      <td>4880581.32</td>\n",
       "    </tr>\n",
       "    <tr>\n",
       "      <th>Beans (fava)</th>\n",
       "      <td>4809582.40</td>\n",
       "    </tr>\n",
       "    <tr>\n",
       "      <th>Livestock (Sheep)</th>\n",
       "      <td>4331967.05</td>\n",
       "    </tr>\n",
       "    <tr>\n",
       "      <th>Wheat flour</th>\n",
       "      <td>4325672.36</td>\n",
       "    </tr>\n",
       "  </tbody>\n",
       "</table>\n",
       "</div>"
      ],
      "text/plain": [
       "                         price\n",
       "commodity                     \n",
       "Maize (white)       7500034.63\n",
       "Livestock (camel)   6866473.00\n",
       "Livestock (bull)    6776585.00\n",
       "Livestock (cattle)  6283952.49\n",
       "Lentils             5157866.25\n",
       "Livestock (ox)      5010022.71\n",
       "Livestock (Goat)    4880581.32\n",
       "Beans (fava)        4809582.40\n",
       "Livestock (Sheep)   4331967.05\n",
       "Wheat flour         4325672.36"
      ]
     },
     "execution_count": 41,
     "metadata": {},
     "output_type": "execute_result"
    }
   ],
   "source": [
    "#the first 10 expensive commodity prices in decreasing order\n",
    "commodity_price=pd.DataFrame(data.groupby('commodity').sum()['price'])\n",
    "comm_price=commodity_price.sort_values('price',ascending=False)\n",
    "comm_price[:10]"
   ]
  },
  {
   "cell_type": "code",
   "execution_count": 42,
   "id": "1e129b3d",
   "metadata": {},
   "outputs": [
    {
     "data": {
      "text/html": [
       "<div>\n",
       "<style scoped>\n",
       "    .dataframe tbody tr th:only-of-type {\n",
       "        vertical-align: middle;\n",
       "    }\n",
       "\n",
       "    .dataframe tbody tr th {\n",
       "        vertical-align: top;\n",
       "    }\n",
       "\n",
       "    .dataframe thead th {\n",
       "        text-align: right;\n",
       "    }\n",
       "</style>\n",
       "<table border=\"1\" class=\"dataframe\">\n",
       "  <thead>\n",
       "    <tr style=\"text-align: right;\">\n",
       "      <th></th>\n",
       "      <th>month-year</th>\n",
       "      <th>price</th>\n",
       "    </tr>\n",
       "  </thead>\n",
       "  <tbody>\n",
       "    <tr>\n",
       "      <th>0</th>\n",
       "      <td>2000-01</td>\n",
       "      <td>1123.75</td>\n",
       "    </tr>\n",
       "    <tr>\n",
       "      <th>1</th>\n",
       "      <td>2000-02</td>\n",
       "      <td>1170.00</td>\n",
       "    </tr>\n",
       "    <tr>\n",
       "      <th>2</th>\n",
       "      <td>2000-03</td>\n",
       "      <td>1177.25</td>\n",
       "    </tr>\n",
       "    <tr>\n",
       "      <th>3</th>\n",
       "      <td>2000-04</td>\n",
       "      <td>1230.00</td>\n",
       "    </tr>\n",
       "    <tr>\n",
       "      <th>4</th>\n",
       "      <td>2000-05</td>\n",
       "      <td>1209.25</td>\n",
       "    </tr>\n",
       "    <tr>\n",
       "      <th>...</th>\n",
       "      <td>...</td>\n",
       "      <td>...</td>\n",
       "    </tr>\n",
       "    <tr>\n",
       "      <th>283</th>\n",
       "      <td>2023-09</td>\n",
       "      <td>0.00</td>\n",
       "    </tr>\n",
       "    <tr>\n",
       "      <th>284</th>\n",
       "      <td>2023-10</td>\n",
       "      <td>0.00</td>\n",
       "    </tr>\n",
       "    <tr>\n",
       "      <th>285</th>\n",
       "      <td>2023-11</td>\n",
       "      <td>0.00</td>\n",
       "    </tr>\n",
       "    <tr>\n",
       "      <th>286</th>\n",
       "      <td>2023-12</td>\n",
       "      <td>0.00</td>\n",
       "    </tr>\n",
       "    <tr>\n",
       "      <th>287</th>\n",
       "      <td>2024-01</td>\n",
       "      <td>0.00</td>\n",
       "    </tr>\n",
       "  </tbody>\n",
       "</table>\n",
       "<p>288 rows × 2 columns</p>\n",
       "</div>"
      ],
      "text/plain": [
       "    month-year    price\n",
       "0      2000-01  1123.75\n",
       "1      2000-02  1170.00\n",
       "2      2000-03  1177.25\n",
       "3      2000-04  1230.00\n",
       "4      2000-05  1209.25\n",
       "..         ...      ...\n",
       "283    2023-09     0.00\n",
       "284    2023-10     0.00\n",
       "285    2023-11     0.00\n",
       "286    2023-12     0.00\n",
       "287    2024-01     0.00\n",
       "\n",
       "[288 rows x 2 columns]"
      ]
     },
     "execution_count": 42,
     "metadata": {},
     "output_type": "execute_result"
    }
   ],
   "source": [
    "#getting month year from dataset, leaving the days\\n\",\n",
    "data['month-year'] = data['date'].apply(lambda x: x.strftime('%Y-%m'))\n",
    "#grouping month year\n",
    "data_trend=data.groupby('month-year').sum()['price'].reset_index()\n",
    "data_trend"
   ]
  },
  {
   "cell_type": "code",
   "execution_count": 43,
   "id": "d69b5ffb",
   "metadata": {},
   "outputs": [
    {
     "data": {
      "text/html": [
       "<div>\n",
       "<style scoped>\n",
       "    .dataframe tbody tr th:only-of-type {\n",
       "        vertical-align: middle;\n",
       "    }\n",
       "\n",
       "    .dataframe tbody tr th {\n",
       "        vertical-align: top;\n",
       "    }\n",
       "\n",
       "    .dataframe thead th {\n",
       "        text-align: right;\n",
       "    }\n",
       "</style>\n",
       "<table border=\"1\" class=\"dataframe\">\n",
       "  <thead>\n",
       "    <tr style=\"text-align: right;\">\n",
       "      <th>priceflag</th>\n",
       "      <th>actual</th>\n",
       "      <th>actual,aggregate</th>\n",
       "      <th>aggregate</th>\n",
       "      <th>forecast</th>\n",
       "    </tr>\n",
       "    <tr>\n",
       "      <th>category</th>\n",
       "      <th></th>\n",
       "      <th></th>\n",
       "      <th></th>\n",
       "      <th></th>\n",
       "    </tr>\n",
       "  </thead>\n",
       "  <tbody>\n",
       "    <tr>\n",
       "      <th>cereals and tubers</th>\n",
       "      <td>0.764599</td>\n",
       "      <td>0.003208</td>\n",
       "      <td>0.028370</td>\n",
       "      <td>0.203823</td>\n",
       "    </tr>\n",
       "    <tr>\n",
       "      <th>meat, fish and eggs</th>\n",
       "      <td>0.630754</td>\n",
       "      <td>0.006576</td>\n",
       "      <td>0.026165</td>\n",
       "      <td>0.336505</td>\n",
       "    </tr>\n",
       "    <tr>\n",
       "      <th>milk and dairy</th>\n",
       "      <td>0.642355</td>\n",
       "      <td>NaN</td>\n",
       "      <td>NaN</td>\n",
       "      <td>0.357645</td>\n",
       "    </tr>\n",
       "    <tr>\n",
       "      <th>miscellaneous food</th>\n",
       "      <td>0.610489</td>\n",
       "      <td>NaN</td>\n",
       "      <td>0.047142</td>\n",
       "      <td>0.342369</td>\n",
       "    </tr>\n",
       "    <tr>\n",
       "      <th>non-food</th>\n",
       "      <td>0.659007</td>\n",
       "      <td>0.022518</td>\n",
       "      <td>0.050092</td>\n",
       "      <td>0.268382</td>\n",
       "    </tr>\n",
       "    <tr>\n",
       "      <th>oil and fats</th>\n",
       "      <td>0.595499</td>\n",
       "      <td>0.015815</td>\n",
       "      <td>0.080292</td>\n",
       "      <td>0.308394</td>\n",
       "    </tr>\n",
       "    <tr>\n",
       "      <th>pulses and nuts</th>\n",
       "      <td>0.685729</td>\n",
       "      <td>0.005366</td>\n",
       "      <td>0.005534</td>\n",
       "      <td>0.303371</td>\n",
       "    </tr>\n",
       "    <tr>\n",
       "      <th>vegetables and fruits</th>\n",
       "      <td>0.728451</td>\n",
       "      <td>0.013665</td>\n",
       "      <td>0.059566</td>\n",
       "      <td>0.198318</td>\n",
       "    </tr>\n",
       "  </tbody>\n",
       "</table>\n",
       "</div>"
      ],
      "text/plain": [
       "priceflag                actual  actual,aggregate  aggregate  forecast\n",
       "category                                                              \n",
       "cereals and tubers     0.764599          0.003208   0.028370  0.203823\n",
       "meat, fish and eggs    0.630754          0.006576   0.026165  0.336505\n",
       "milk and dairy         0.642355               NaN        NaN  0.357645\n",
       "miscellaneous food     0.610489               NaN   0.047142  0.342369\n",
       "non-food               0.659007          0.022518   0.050092  0.268382\n",
       "oil and fats           0.595499          0.015815   0.080292  0.308394\n",
       "pulses and nuts        0.685729          0.005366   0.005534  0.303371\n",
       "vegetables and fruits  0.728451          0.013665   0.059566  0.198318"
      ]
     },
     "execution_count": 43,
     "metadata": {},
     "output_type": "execute_result"
    }
   ],
   "source": [
    "pd.DataFrame(data.category.value_counts())# each categories quantity\"\n",
    "\n",
    "pd.DataFrame(data.priceflag.value_counts())\n",
    "\n",
    "pd.DataFrame(data.priceflag.value_counts(normalize=True))# to make the proportion easily\"\n",
    "\n",
    "bycategory = data.groupby('category').priceflag.value_counts(normalize=True)\n",
    "bycategory\n",
    "\n",
    "bycategory.unstack()# now we can get  the well structured record than the previous \""
   ]
  },
  {
   "cell_type": "code",
   "execution_count": 44,
   "id": "56abd2f3",
   "metadata": {},
   "outputs": [
    {
     "data": {
      "text/html": [
       "<div>\n",
       "<style scoped>\n",
       "    .dataframe tbody tr th:only-of-type {\n",
       "        vertical-align: middle;\n",
       "    }\n",
       "\n",
       "    .dataframe tbody tr th {\n",
       "        vertical-align: top;\n",
       "    }\n",
       "\n",
       "    .dataframe thead th {\n",
       "        text-align: right;\n",
       "    }\n",
       "</style>\n",
       "<table border=\"1\" class=\"dataframe\">\n",
       "  <thead>\n",
       "    <tr style=\"text-align: right;\">\n",
       "      <th></th>\n",
       "      <th>commodity</th>\n",
       "      <th>category</th>\n",
       "      <th>priceflag</th>\n",
       "    </tr>\n",
       "  </thead>\n",
       "  <tbody>\n",
       "    <tr>\n",
       "      <th>1</th>\n",
       "      <td>Maize (white)</td>\n",
       "      <td>cereals and tubers</td>\n",
       "      <td>actual</td>\n",
       "    </tr>\n",
       "    <tr>\n",
       "      <th>2</th>\n",
       "      <td>Sorghum (white)</td>\n",
       "      <td>cereals and tubers</td>\n",
       "      <td>actual</td>\n",
       "    </tr>\n",
       "    <tr>\n",
       "      <th>3</th>\n",
       "      <td>Teff</td>\n",
       "      <td>cereals and tubers</td>\n",
       "      <td>actual</td>\n",
       "    </tr>\n",
       "    <tr>\n",
       "      <th>4</th>\n",
       "      <td>Wheat</td>\n",
       "      <td>cereals and tubers</td>\n",
       "      <td>actual</td>\n",
       "    </tr>\n",
       "    <tr>\n",
       "      <th>5</th>\n",
       "      <td>Maize (white)</td>\n",
       "      <td>cereals and tubers</td>\n",
       "      <td>actual</td>\n",
       "    </tr>\n",
       "  </tbody>\n",
       "</table>\n",
       "</div>"
      ],
      "text/plain": [
       "         commodity            category priceflag\n",
       "1    Maize (white)  cereals and tubers    actual\n",
       "2  Sorghum (white)  cereals and tubers    actual\n",
       "3             Teff  cereals and tubers    actual\n",
       "4            Wheat  cereals and tubers    actual\n",
       "5    Maize (white)  cereals and tubers    actual"
      ]
     },
     "execution_count": 44,
     "metadata": {},
     "output_type": "execute_result"
    }
   ],
   "source": [
    "df = pd.DataFrame(data,columns=['commodity','category','priceflag']).head()#creating dataframe for the first five commodity, category and priceflag values\\n\",\n",
    "df"
   ]
  },
  {
   "cell_type": "code",
   "execution_count": 45,
   "id": "8f7b0c3a",
   "metadata": {},
   "outputs": [
    {
     "data": {
      "text/plain": [
       "1    1-600\n",
       "2    1-600\n",
       "3    1-600\n",
       "4    1-600\n",
       "5    1-600\n",
       "Name: priceGroup, dtype: category\n",
       "Categories (5, object): ['1-600' < '600-1300' < '1300-2000' < '2000-2800' < '2800-9000']"
      ]
     },
     "execution_count": 45,
     "metadata": {},
     "output_type": "execute_result"
    }
   ],
   "source": [
    "data['priceGroup'] = pd.cut(data.price,[1,600,1300,2000,2800,9000], labels=['1-600','600-1300','1300-2000','2000-2800','2800-9000'])\n",
    "data['priceGroup'].head()# creating the group for price data , here we use maximum price as 9000\""
   ]
  },
  {
   "cell_type": "markdown",
   "id": "98b33653",
   "metadata": {},
   "source": [
    "# Distribution"
   ]
  },
  {
   "cell_type": "code",
   "execution_count": 46,
   "id": "485a5c16",
   "metadata": {},
   "outputs": [
    {
     "data": {
      "image/png": "[encoded data removed]",
      "text/plain": [
       "<Figure size 432x288 with 1 Axes>"
      ]
     },
     "metadata": {
      "needs_background": "light"
     },
     "output_type": "display_data"
    },
    {
     "data": {
      "image/png": "[encoded data removed]",
      "text/plain": [
       "<Figure size 432x288 with 1 Axes>"
      ]
     },
     "metadata": {
      "needs_background": "light"
     },
     "output_type": "display_data"
    }
   ],
   "source": [
    "#getting month year from dataset\\n\",\n",
    "#data['year'] = data['date'].apply(lambda x: x.strftime('%Y'))\n",
    "data['year'] = data['date'].apply(lambda x: x.strftime('%Y'))\n",
    "\n",
    "#grouping by year\n",
    "data_trend=data.groupby('year').sum()['price'].reset_index()\n",
    "plt.plot(data_trend.year,data_trend.price,'b.-',label=\"price\")\n",
    "plt.ylabel('Price_trend')\n",
    "data_trend.year[::5]\n",
    "plt.xticks(data_trend.year[: :5])\n",
    "plt.legend()\n",
    "plt.show()\n",
    "#print(data_trend) of commodity and price on the first picture since the price data given at the last rows almost 0.0 \n",
    "\n",
    "comm_price=data.groupby('commodity').sum()['price'].reset_index()\n",
    "plt.plot(comm_price.commodity,comm_price.price,'r.-',label=\"commodity\")\n",
    "plt.ylabel('commodity_trend')\n",
    "plt.xticks(comm_price.commodity[: :10])\n",
    "comm_price.commodity[::10]\n",
    "plt.xticks(rotation='vertical',size=10)\n",
    "plt.legend()\n",
    "plt.show()"
   ]
  },
  {
   "cell_type": "code",
   "execution_count": 47,
   "id": "fc63b640",
   "metadata": {},
   "outputs": [
    {
     "name": "stdout",
     "output_type": "stream",
     "text": [
      "1       2000-01-15\n",
      "10001   2014-12-15\n",
      "20001   2020-12-15\n",
      "30001   2022-07-15\n",
      "40001   2020-05-15\n",
      "50001   2023-08-15\n",
      "Name: date, dtype: datetime64[ns]\n"
     ]
    },
    {
     "data": {
      "image/png": "[encoded data removed]",
      "text/plain": [
       "<Figure size 1440x432 with 1 Axes>"
      ]
     },
     "metadata": {
      "needs_background": "light"
     },
     "output_type": "display_data"
    }
   ],
   "source": [
    "print(data.date[::10000])# subsetting the set by ten thausand\n",
    "\n",
    "plt.figure(figsize=(20,6))\n",
    "plt.plot(data.date,data.price,label=\"price_trend\")# such a bulk data elements\n",
    "plt.xticks(data.date[::10000])#even using this large subset\n",
    "plt.ylabel('Price_trend')\n",
    "plt.legend()\n",
    "plt.show()"
   ]
  },
  {
   "cell_type": "code",
   "execution_count": 48,
   "id": "baea20a2",
   "metadata": {},
   "outputs": [
    {
     "name": "stderr",
     "output_type": "stream",
     "text": [
      "C:\\Users\\Remla\\anaconda3\\lib\\site-packages\\seaborn\\_decorators.py:36: FutureWarning: Pass the following variable as a keyword arg: x. From version 0.12, the only valid positional argument will be `data`, and passing other arguments without an explicit keyword will result in an error or misinterpretation.\n",
      "  warnings.warn(\n"
     ]
    },
    {
     "data": {
      "text/plain": [
       "Text(0.5, 1.0, 'category')"
      ]
     },
     "execution_count": 48,
     "metadata": {},
     "output_type": "execute_result"
    },
    {
     "data": {
      "image/png": "[encoded data removed]",
      "text/plain": [
       "<Figure size 1080x576 with 1 Axes>"
      ]
     },
     "metadata": {
      "needs_background": "light"
     },
     "output_type": "display_data"
    },
    {
     "data": {
      "image/png": "[encoded data removed]",
      "text/plain": [
       "<Figure size 720x288 with 2 Axes>"
      ]
     },
     "metadata": {},
     "output_type": "display_data"
    }
   ],
   "source": [
    "# the most prefered category using distribution using bar and pie chart\\n\",\n",
    "import seaborn as sns\n",
    "plt.figure(figsize=(15,8))\n",
    "plt.xticks(rotation='vertical',size=10)\n",
    "sns.countplot(data['category'])\n",
    "\n",
    "# now lets visualise  the groups of the distribution\"\n",
    "\n",
    "plt.figure(figsize=(10,4))\n",
    "plt.subplot(1,2,1);data.priceflag.value_counts().plot(kind='bar',color=['C0','C1'])\n",
    "plt.title('Priceflag')\n",
    "plt.subplot(1,2,2);data.category.value_counts().plot(kind='bar',color=['C2','C3'])\n",
    "plt.title('category')\n",
    "\n",
    "plt.subplot(2,2,1);data.priceflag.value_counts().plot(kind='pie',colors=['C0','C1']);\n",
    "plt.title('Priceflag')\n",
    "plt.subplot(2,2,2);data.category.value_counts().plot(kind='pie',colors=['C0','C1','C2','C3','C4','C5','C6','C7']);\n",
    "plt.title('category')"
   ]
  },
  {
   "cell_type": "code",
   "execution_count": 53,
   "id": "460835b8",
   "metadata": {},
   "outputs": [
    {
     "data": {
      "text/html": [
       "<div>\n",
       "<style scoped>\n",
       "    .dataframe tbody tr th:only-of-type {\n",
       "        vertical-align: middle;\n",
       "    }\n",
       "\n",
       "    .dataframe tbody tr th {\n",
       "        vertical-align: top;\n",
       "    }\n",
       "\n",
       "    .dataframe thead tr th {\n",
       "        text-align: left;\n",
       "    }\n",
       "\n",
       "    .dataframe thead tr:last-of-type th {\n",
       "        text-align: right;\n",
       "    }\n",
       "</style>\n",
       "<table border=\"1\" class=\"dataframe\">\n",
       "  <thead>\n",
       "    <tr>\n",
       "      <th>priceflag</th>\n",
       "      <th colspan=\"8\" halign=\"left\">actual</th>\n",
       "      <th colspan=\"8\" halign=\"left\">actual,aggregate</th>\n",
       "    </tr>\n",
       "    <tr>\n",
       "      <th>category</th>\n",
       "      <th>cereals and tubers</th>\n",
       "      <th>meat, fish and eggs</th>\n",
       "      <th>milk and dairy</th>\n",
       "      <th>miscellaneous food</th>\n",
       "      <th>non-food</th>\n",
       "      <th>oil and fats</th>\n",
       "      <th>pulses and nuts</th>\n",
       "      <th>vegetables and fruits</th>\n",
       "      <th>cereals and tubers</th>\n",
       "      <th>meat, fish and eggs</th>\n",
       "      <th>milk and dairy</th>\n",
       "      <th>miscellaneous food</th>\n",
       "      <th>non-food</th>\n",
       "      <th>oil and fats</th>\n",
       "      <th>pulses and nuts</th>\n",
       "      <th>vegetables and fruits</th>\n",
       "    </tr>\n",
       "    <tr>\n",
       "      <th>priceGroup</th>\n",
       "      <th></th>\n",
       "      <th></th>\n",
       "      <th></th>\n",
       "      <th></th>\n",
       "      <th></th>\n",
       "      <th></th>\n",
       "      <th></th>\n",
       "      <th></th>\n",
       "      <th></th>\n",
       "      <th></th>\n",
       "      <th></th>\n",
       "      <th></th>\n",
       "      <th></th>\n",
       "      <th></th>\n",
       "      <th></th>\n",
       "      <th></th>\n",
       "    </tr>\n",
       "  </thead>\n",
       "  <tbody>\n",
       "    <tr>\n",
       "      <th>1-600</th>\n",
       "      <td>0.960239</td>\n",
       "      <td>1.000000</td>\n",
       "      <td>1.0</td>\n",
       "      <td>0.922705</td>\n",
       "      <td>0.89981</td>\n",
       "      <td>0.860915</td>\n",
       "      <td>1.000000</td>\n",
       "      <td>0.908494</td>\n",
       "      <td>0.001561</td>\n",
       "      <td>NaN</td>\n",
       "      <td>NaN</td>\n",
       "      <td>NaN</td>\n",
       "      <td>0.031072</td>\n",
       "      <td>0.022887</td>\n",
       "      <td>NaN</td>\n",
       "      <td>0.017075</td>\n",
       "    </tr>\n",
       "    <tr>\n",
       "      <th>600-1300</th>\n",
       "      <td>0.985851</td>\n",
       "      <td>0.982935</td>\n",
       "      <td>NaN</td>\n",
       "      <td>1.000000</td>\n",
       "      <td>1.00000</td>\n",
       "      <td>NaN</td>\n",
       "      <td>1.000000</td>\n",
       "      <td>NaN</td>\n",
       "      <td>0.004042</td>\n",
       "      <td>NaN</td>\n",
       "      <td>NaN</td>\n",
       "      <td>NaN</td>\n",
       "      <td>NaN</td>\n",
       "      <td>NaN</td>\n",
       "      <td>NaN</td>\n",
       "      <td>NaN</td>\n",
       "    </tr>\n",
       "    <tr>\n",
       "      <th>1300-2000</th>\n",
       "      <td>0.984647</td>\n",
       "      <td>0.964806</td>\n",
       "      <td>NaN</td>\n",
       "      <td>NaN</td>\n",
       "      <td>NaN</td>\n",
       "      <td>NaN</td>\n",
       "      <td>1.000000</td>\n",
       "      <td>NaN</td>\n",
       "      <td>0.006653</td>\n",
       "      <td>0.007282</td>\n",
       "      <td>NaN</td>\n",
       "      <td>NaN</td>\n",
       "      <td>NaN</td>\n",
       "      <td>NaN</td>\n",
       "      <td>NaN</td>\n",
       "      <td>NaN</td>\n",
       "    </tr>\n",
       "    <tr>\n",
       "      <th>2000-2800</th>\n",
       "      <td>0.938471</td>\n",
       "      <td>0.924915</td>\n",
       "      <td>NaN</td>\n",
       "      <td>1.000000</td>\n",
       "      <td>1.00000</td>\n",
       "      <td>NaN</td>\n",
       "      <td>1.000000</td>\n",
       "      <td>1.000000</td>\n",
       "      <td>0.010566</td>\n",
       "      <td>0.007964</td>\n",
       "      <td>NaN</td>\n",
       "      <td>NaN</td>\n",
       "      <td>NaN</td>\n",
       "      <td>NaN</td>\n",
       "      <td>NaN</td>\n",
       "      <td>NaN</td>\n",
       "    </tr>\n",
       "    <tr>\n",
       "      <th>2800-9000</th>\n",
       "      <td>0.936549</td>\n",
       "      <td>0.907915</td>\n",
       "      <td>NaN</td>\n",
       "      <td>1.000000</td>\n",
       "      <td>1.00000</td>\n",
       "      <td>NaN</td>\n",
       "      <td>0.976068</td>\n",
       "      <td>1.000000</td>\n",
       "      <td>0.006405</td>\n",
       "      <td>0.025875</td>\n",
       "      <td>NaN</td>\n",
       "      <td>NaN</td>\n",
       "      <td>NaN</td>\n",
       "      <td>NaN</td>\n",
       "      <td>0.011782</td>\n",
       "      <td>NaN</td>\n",
       "    </tr>\n",
       "  </tbody>\n",
       "</table>\n",
       "</div>"
      ],
      "text/plain": [
       "priceflag              actual                                     \\\n",
       "category   cereals and tubers meat, fish and eggs milk and dairy   \n",
       "priceGroup                                                         \n",
       "1-600                0.960239            1.000000            1.0   \n",
       "600-1300             0.985851            0.982935            NaN   \n",
       "1300-2000            0.984647            0.964806            NaN   \n",
       "2000-2800            0.938471            0.924915            NaN   \n",
       "2800-9000            0.936549            0.907915            NaN   \n",
       "\n",
       "priceflag                                                            \\\n",
       "category   miscellaneous food non-food oil and fats pulses and nuts   \n",
       "priceGroup                                                            \n",
       "1-600                0.922705  0.89981     0.860915        1.000000   \n",
       "600-1300             1.000000  1.00000          NaN        1.000000   \n",
       "1300-2000                 NaN      NaN          NaN        1.000000   \n",
       "2000-2800            1.000000  1.00000          NaN        1.000000   \n",
       "2800-9000            1.000000  1.00000          NaN        0.976068   \n",
       "\n",
       "priceflag                          actual,aggregate                      \\\n",
       "category   vegetables and fruits cereals and tubers meat, fish and eggs   \n",
       "priceGroup                                                                \n",
       "1-600                   0.908494           0.001561                 NaN   \n",
       "600-1300                     NaN           0.004042                 NaN   \n",
       "1300-2000                    NaN           0.006653            0.007282   \n",
       "2000-2800               1.000000           0.010566            0.007964   \n",
       "2800-9000               1.000000           0.006405            0.025875   \n",
       "\n",
       "priceflag                                                            \\\n",
       "category   milk and dairy miscellaneous food  non-food oil and fats   \n",
       "priceGroup                                                            \n",
       "1-600                 NaN                NaN  0.031072     0.022887   \n",
       "600-1300              NaN                NaN       NaN          NaN   \n",
       "1300-2000             NaN                NaN       NaN          NaN   \n",
       "2000-2800             NaN                NaN       NaN          NaN   \n",
       "2800-9000             NaN                NaN       NaN          NaN   \n",
       "\n",
       "priceflag                                         \n",
       "category   pulses and nuts vegetables and fruits  \n",
       "priceGroup                                        \n",
       "1-600                  NaN              0.017075  \n",
       "600-1300               NaN                   NaN  \n",
       "1300-2000              NaN                   NaN  \n",
       "2000-2800              NaN                   NaN  \n",
       "2800-9000         0.011782                   NaN  "
      ]
     },
     "execution_count": 53,
     "metadata": {},
     "output_type": "execute_result"
    }
   ],
   "source": [
    "byprice = data.groupby(['priceGroup','category']).priceflag.value_counts(normalize=True)\n",
    "\n",
    "byprice.unstack().drop(\"aggregate\",axis = 1)\n",
    "\n",
    "byprice.unstack().drop(\"aggregate\",axis = 1).unstack()# to clean it much more and plot it again\n",
    "\n"
   ]
  },
  {
   "cell_type": "code",
   "execution_count": 54,
   "id": "757df3e9",
   "metadata": {},
   "outputs": [
    {
     "data": {
      "text/plain": [
       "<Figure size 1440x576 with 0 Axes>"
      ]
     },
     "execution_count": 54,
     "metadata": {},
     "output_type": "execute_result"
    },
    {
     "data": {
      "image/png": "[encoded data removed]",
      "text/plain": [
       "<Figure size 432x288 with 1 Axes>"
      ]
     },
     "metadata": {
      "needs_background": "light"
     },
     "output_type": "display_data"
    },
    {
     "data": {
      "text/plain": [
       "<Figure size 1440x576 with 0 Axes>"
      ]
     },
     "metadata": {},
     "output_type": "display_data"
    },
    {
     "data": {
      "image/png": "[encoded data removed]",
      "text/plain": [
       "<Figure size 432x288 with 1 Axes>"
      ]
     },
     "metadata": {
      "needs_background": "light"
     },
     "output_type": "display_data"
    },
    {
     "data": {
      "image/png": "[encoded data removed]",
      "text/plain": [
       "<Figure size 432x288 with 1 Axes>"
      ]
     },
     "metadata": {
      "needs_background": "light"
     },
     "output_type": "display_data"
    },
    {
     "data": {
      "text/plain": [
       "<Figure size 1440x576 with 0 Axes>"
      ]
     },
     "metadata": {},
     "output_type": "display_data"
    }
   ],
   "source": [
    "bycategory.unstack().plot(kind='bar',stacked=True)\n",
    "\n",
    "plt.figure(figsize=(20,8))\n",
    "byprice.unstack().plot(kind='bar',stacked=True)\n",
    "byprice2 = byprice.unstack().drop(\"aggregate\",axis = 1).unstack()# to clean it much more and plot it again\n",
    "\n",
    "byprice2.plot(kind='bar')\n",
    "\n",
    "data.price.plot(kind=\"hist\")\n",
    "\n",
    "#data.commodity.plot(kind=\"hist\")\"\n",
    "\n",
    "plt.figure(figsize=(20,8))"
   ]
  },
  {
   "cell_type": "code",
   "execution_count": 56,
   "id": "d915d510",
   "metadata": {},
   "outputs": [
    {
     "data": {
      "text/plain": [
       "<AxesSubplot:xlabel='pricetype', ylabel='category'>"
      ]
     },
     "execution_count": 56,
     "metadata": {},
     "output_type": "execute_result"
    },
    {
     "data": {
      "image/png": "[encoded data removed]",
      "text/plain": [
       "<Figure size 432x288 with 1 Axes>"
      ]
     },
     "metadata": {
      "needs_background": "light"
     },
     "output_type": "display_data"
    },
    {
     "data": {
      "image/png": "[encoded data removed]",
      "text/plain": [
       "<Figure size 432x288 with 1 Axes>"
      ]
     },
     "metadata": {
      "needs_background": "light"
     },
     "output_type": "display_data"
    }
   ],
   "source": [
    "group=data.groupby(\"category\")\n",
    "group.mean().plot(kind=\"bar\")\n",
    "\n",
    "#scatter plot to see the relation items in each of the groups\n",
    "ax=data.plot.scatter(x='priceflag', y='category', \n",
    "                color='Blue', label='priceflag')\n",
    "data.plot.scatter(x='pricetype', y='category', color='red', \n",
    "              label='category', ax=ax)"
   ]
  },
  {
   "cell_type": "code",
   "execution_count": 57,
   "id": "e8ed7476",
   "metadata": {},
   "outputs": [
    {
     "data": {
      "image/png": "[encoded data removed]",
      "text/plain": [
       "<Figure size 1080x288 with 1 Axes>"
      ]
     },
     "metadata": {
      "needs_background": "light"
     },
     "output_type": "display_data"
    }
   ],
   "source": [
    "pivot_df = pd.DataFrame({'price':[120.75,187.25,222.0,168.75,124.50,171.25,246.25,163.75,314.00,582.00,795.00,550.00,456.0,894.00,1205.00,973.00],'commodity':['Maize(White)','Sorghum(white)','Teff','Wheat','Maize(White)','Sorghum(white)','Teff','Wheat','Maize(White)','Sorghum(white)','Teff','Wheat','Maize(White)','Sorghum(white)','Teff','Wheat'],'date':[2000,2000,2000,2000,2005,2005,2005,2005,2010,2010,2010,2010,2015,2015,2015,2015]})\n",
    "df_pivot1=pivot_df.pivot(index='date',columns='commodity',values='price')\n",
    "df_pivot1\n",
    "\n",
    "data.pivot_table(index='category',columns='date')\n",
    "# visualizing the pivot output\n",
    "plt.figure(figsize=(15,4))\n",
    "plt.plot(df_pivot1)\n",
    "plt.ylabel('Maize,Sorghum,Teff,Wheat')\n",
    "plt.xticks(rotation='vertical',size=8)\n",
    "plt.show()"
   ]
  },
  {
   "cell_type": "markdown",
   "id": "b18c033b",
   "metadata": {},
   "source": [
    "# The prediction part of machine learning"
   ]
  },
  {
   "cell_type": "code",
   "execution_count": 58,
   "id": "5591a0d1",
   "metadata": {},
   "outputs": [],
   "source": [
    "import datetime\n",
    "data['conv_date']=pd.to_datetime(data.date,format=\"%Y-%M-%D\")\n",
    "data['conv_date'] =data['conv_date'].map(datetime.datetime.toordinal)"
   ]
  },
  {
   "cell_type": "code",
   "execution_count": 59,
   "id": "92f6c2aa",
   "metadata": {},
   "outputs": [
    {
     "data": {
      "text/plain": [
       "1        730134\n",
       "2        730134\n",
       "3        730134\n",
       "4        730134\n",
       "5        730134\n",
       "          ...  \n",
       "52224    738900\n",
       "52225    738900\n",
       "52226    738900\n",
       "52227    738900\n",
       "52228    738900\n",
       "Name: conv_date, Length: 52228, dtype: int64"
      ]
     },
     "execution_count": 59,
     "metadata": {},
     "output_type": "execute_result"
    }
   ],
   "source": [
    "data['conv_date']"
   ]
  },
  {
   "cell_type": "code",
   "execution_count": 60,
   "id": "9a998cee",
   "metadata": {},
   "outputs": [
    {
     "data": {
      "text/html": [
       "<div>\n",
       "<style scoped>\n",
       "    .dataframe tbody tr th:only-of-type {\n",
       "        vertical-align: middle;\n",
       "    }\n",
       "\n",
       "    .dataframe tbody tr th {\n",
       "        vertical-align: top;\n",
       "    }\n",
       "\n",
       "    .dataframe thead th {\n",
       "        text-align: right;\n",
       "    }\n",
       "</style>\n",
       "<table border=\"1\" class=\"dataframe\">\n",
       "  <thead>\n",
       "    <tr style=\"text-align: right;\">\n",
       "      <th></th>\n",
       "      <th>commodity</th>\n",
       "    </tr>\n",
       "  </thead>\n",
       "  <tbody>\n",
       "    <tr>\n",
       "      <th>1</th>\n",
       "      <td>Maize (white)</td>\n",
       "    </tr>\n",
       "    <tr>\n",
       "      <th>2</th>\n",
       "      <td>Sorghum (white)</td>\n",
       "    </tr>\n",
       "    <tr>\n",
       "      <th>3</th>\n",
       "      <td>Teff</td>\n",
       "    </tr>\n",
       "    <tr>\n",
       "      <th>4</th>\n",
       "      <td>Wheat</td>\n",
       "    </tr>\n",
       "    <tr>\n",
       "      <th>5</th>\n",
       "      <td>Maize (white)</td>\n",
       "    </tr>\n",
       "  </tbody>\n",
       "</table>\n",
       "</div>"
      ],
      "text/plain": [
       "         commodity\n",
       "1    Maize (white)\n",
       "2  Sorghum (white)\n",
       "3             Teff\n",
       "4            Wheat\n",
       "5    Maize (white)"
      ]
     },
     "execution_count": 60,
     "metadata": {},
     "output_type": "execute_result"
    }
   ],
   "source": [
    "data_cat = data[[\"commodity\"]]\n",
    "data_cat.head()"
   ]
  },
  {
   "cell_type": "code",
   "execution_count": 61,
   "id": "e7d37e34",
   "metadata": {},
   "outputs": [],
   "source": [
    "from sklearn.preprocessing import OneHotEncoder\n",
    "onehot_encoder = OneHotEncoder()\n",
    "data_cat_encoded = onehot_encoder.fit_transform(data_cat)"
   ]
  },
  {
   "cell_type": "code",
   "execution_count": 62,
   "id": "1b521278",
   "metadata": {},
   "outputs": [
    {
     "data": {
      "text/plain": [
       "array([[0., 0., 0., ..., 0., 0., 0.],\n",
       "       [0., 0., 0., ..., 0., 0., 0.],\n",
       "       [0., 0., 0., ..., 0., 0., 0.],\n",
       "       ...,\n",
       "       [0., 1., 0., ..., 0., 0., 0.],\n",
       "       [0., 0., 0., ..., 0., 0., 0.],\n",
       "       [0., 0., 0., ..., 0., 0., 0.]])"
      ]
     },
     "execution_count": 62,
     "metadata": {},
     "output_type": "execute_result"
    }
   ],
   "source": [
    "data_cat_encoded.toarray()"
   ]
  },
  {
   "cell_type": "code",
   "execution_count": 63,
   "id": "015e07b7",
   "metadata": {},
   "outputs": [
    {
     "data": {
      "text/html": [
       "<div>\n",
       "<style scoped>\n",
       "    .dataframe tbody tr th:only-of-type {\n",
       "        vertical-align: middle;\n",
       "    }\n",
       "\n",
       "    .dataframe tbody tr th {\n",
       "        vertical-align: top;\n",
       "    }\n",
       "\n",
       "    .dataframe thead th {\n",
       "        text-align: right;\n",
       "    }\n",
       "</style>\n",
       "<table border=\"1\" class=\"dataframe\">\n",
       "  <thead>\n",
       "    <tr style=\"text-align: right;\">\n",
       "      <th></th>\n",
       "      <th>commodity_Teff</th>\n",
       "      <th>commodity_Wheat</th>\n",
       "    </tr>\n",
       "  </thead>\n",
       "  <tbody>\n",
       "    <tr>\n",
       "      <th>0</th>\n",
       "      <td>1</td>\n",
       "      <td>0</td>\n",
       "    </tr>\n",
       "    <tr>\n",
       "      <th>1</th>\n",
       "      <td>0</td>\n",
       "      <td>1</td>\n",
       "    </tr>\n",
       "  </tbody>\n",
       "</table>\n",
       "</div>"
      ],
      "text/plain": [
       "   commodity_Teff   commodity_Wheat\n",
       "0                1                0\n",
       "1                0                1"
      ]
     },
     "execution_count": 63,
     "metadata": {},
     "output_type": "execute_result"
    }
   ],
   "source": [
    "data_test = pd.DataFrame({\"commodity\":[\"Teff \",\"Wheat\"]})\n",
    "pd.get_dummies(data_test)"
   ]
  },
  {
   "cell_type": "code",
   "execution_count": 64,
   "id": "cf65f17a",
   "metadata": {},
   "outputs": [],
   "source": [
    "def shuffle_and_split_data(data,test_ratio):\n",
    "    shuffled_indices = np.random.permutation(len(data))\n",
    "    test_set_size = int(len(data)*test_ratio)\n",
    "    test_indices = shuffled_indices[:test_set_size]\n",
    "    train_indices = shuffled_indices[test_set_size:]\n",
    "    return data.iloc[train_indices],data.iloc[test_indices]"
   ]
  },
  {
   "cell_type": "code",
   "execution_count": 65,
   "id": "58c316c8",
   "metadata": {},
   "outputs": [
    {
     "data": {
      "text/plain": [
       "10445"
      ]
     },
     "execution_count": 65,
     "metadata": {},
     "output_type": "execute_result"
    }
   ],
   "source": [
    "train_set,test_set =shuffle_and_split_data(data,0.2)\n",
    "len(train_set)\n",
    "np.random.seed(42)\n",
    "len(test_set)"
   ]
  },
  {
   "cell_type": "code",
   "execution_count": 66,
   "id": "c070abb8",
   "metadata": {},
   "outputs": [],
   "source": [
    "from sklearn.pipeline import Pipeline\n",
    "from sklearn.impute import SimpleImputer\n",
    "imputer = SimpleImputer(strategy=\"median\")"
   ]
  },
  {
   "cell_type": "code",
   "execution_count": 67,
   "id": "e1ba6bc5",
   "metadata": {},
   "outputs": [
    {
     "data": {
      "text/plain": [
       "(52228, 5)"
      ]
     },
     "execution_count": 67,
     "metadata": {},
     "output_type": "execute_result"
    }
   ],
   "source": [
    "#for the purpose of imputing\n",
    "data_num = data.select_dtypes(include=[np.number])\n",
    "data_num.shape\n",
    "#data_num.dtypes"
   ]
  },
  {
   "cell_type": "code",
   "execution_count": 68,
   "id": "0a403419",
   "metadata": {},
   "outputs": [
    {
     "data": {
      "text/plain": [
       "SimpleImputer(strategy='median')"
      ]
     },
     "execution_count": 68,
     "metadata": {},
     "output_type": "execute_result"
    }
   ],
   "source": [
    "imputer.fit(data_num)"
   ]
  },
  {
   "cell_type": "code",
   "execution_count": 69,
   "id": "cd60a0ae",
   "metadata": {},
   "outputs": [
    {
     "data": {
      "text/plain": [
       "array([9.225556e+00, 3.963330e+01, 2.038750e+02, 8.951600e+00,\n",
       "       7.380170e+05])"
      ]
     },
     "execution_count": 69,
     "metadata": {},
     "output_type": "execute_result"
    }
   ],
   "source": [
    "imputer.statistics_"
   ]
  },
  {
   "cell_type": "code",
   "execution_count": 70,
   "id": "a707e49a",
   "metadata": {},
   "outputs": [],
   "source": [
    "#Transform the training set\n",
    "X=imputer.transform(data_num)\n",
    "#data_tr = pd.DataFrame(X, columns =data_num.columns,index=data_num.index)\n",
    "#data_tr.head()"
   ]
  },
  {
   "cell_type": "code",
   "execution_count": 71,
   "id": "314fe9a7",
   "metadata": {},
   "outputs": [
    {
     "data": {
      "text/plain": [
       "array([-1, -1, -1, ...,  1,  1,  1])"
      ]
     },
     "execution_count": 71,
     "metadata": {},
     "output_type": "execute_result"
    }
   ],
   "source": [
    "#lets drop some outliers\n",
    "from sklearn.ensemble import IsolationForest\n",
    "isolation_forest= IsolationForest(random_state=42)\n",
    "outlier_pred= isolation_forest.fit_predict(X)\n",
    "outlier_pred"
   ]
  },
  {
   "cell_type": "code",
   "execution_count": 72,
   "id": "539a7771",
   "metadata": {},
   "outputs": [
    {
     "data": {
      "text/plain": [
       "array([[ 0.00545871, -0.07114427, -0.99694304, -0.98015196, -1.        ],\n",
       "       [ 0.00545871, -0.07114427, -0.99525949, -0.9692213 , -1.        ],\n",
       "       [ 0.00545871, -0.07114427, -0.99437975, -0.96350937, -1.        ],\n",
       "       ...,\n",
       "       [ 0.66599781, -0.01584931, -1.        , -1.        ,  1.        ],\n",
       "       [ 0.66599781, -0.01584931, -1.        , -1.        ,  1.        ],\n",
       "       [ 0.66599781, -0.01584931, -1.        , -1.        ,  1.        ]])"
      ]
     },
     "execution_count": 72,
     "metadata": {},
     "output_type": "execute_result"
    }
   ],
   "source": [
    "from sklearn.preprocessing import MinMaxScaler\n",
    "min_max_scaler = MinMaxScaler(feature_range=(-1,1))\n",
    "df_num_min_max_scaled=min_max_scaler.fit_transform(data_num)\n",
    "df_num_min_max_scaled"
   ]
  },
  {
   "cell_type": "code",
   "execution_count": 73,
   "id": "74c09a56",
   "metadata": {},
   "outputs": [
    {
     "data": {
      "text/plain": [
       "array([[-0.13358015, -0.48737547, -0.41507707, -0.3353244 , -4.01817129],\n",
       "       [-0.13358015, -0.48737547, -0.39825477, -0.23559485, -4.01817129],\n",
       "       [-0.13358015, -0.48737547, -0.38946417, -0.18348006, -4.01817129],\n",
       "       ...,\n",
       "       [ 1.31996033, -0.34418063, -0.44562283, -0.51641475,  0.93539195],\n",
       "       [ 1.31996033, -0.34418063, -0.44562283, -0.51641475,  0.93539195],\n",
       "       [ 1.31996033, -0.34418063, -0.44562283, -0.51641475,  0.93539195]])"
      ]
     },
     "execution_count": 73,
     "metadata": {},
     "output_type": "execute_result"
    }
   ],
   "source": [
    "#lets scale using zscore \n",
    "from sklearn.preprocessing import StandardScaler\n",
    "std_scaler=StandardScaler()\n",
    "data_num_std_scaled=std_scaler.fit_transform(data_num)\n",
    "data_num_std_scaled"
   ]
  },
  {
   "cell_type": "code",
   "execution_count": 74,
   "id": "63e5d5f1",
   "metadata": {},
   "outputs": [
    {
     "data": {
      "text/plain": [
       "admin1                object\n",
       "admin2                object\n",
       "category              object\n",
       "commodity             object\n",
       "date          datetime64[ns]\n",
       "latitude             float64\n",
       "longitude            float64\n",
       "market                object\n",
       "price                float64\n",
       "priceflag             object\n",
       "pricetype             object\n",
       "usdprice             float64\n",
       "month-year            object\n",
       "priceGroup          category\n",
       "year                  object\n",
       "conv_date              int64\n",
       "dtype: object"
      ]
     },
     "execution_count": 74,
     "metadata": {},
     "output_type": "execute_result"
    }
   ],
   "source": [
    "data.dtypes"
   ]
  },
  {
   "cell_type": "code",
   "execution_count": 75,
   "id": "6ed0e6e6",
   "metadata": {},
   "outputs": [
    {
     "data": {
      "text/plain": [
       "admin1                object\n",
       "admin2                object\n",
       "category              object\n",
       "commodity             object\n",
       "date          datetime64[ns]\n",
       "latitude             float64\n",
       "longitude            float64\n",
       "market                object\n",
       "priceflag             object\n",
       "pricetype             object\n",
       "usdprice             float64\n",
       "month-year            object\n",
       "priceGroup          category\n",
       "year                  object\n",
       "conv_date              int64\n",
       "dtype: object"
      ]
     },
     "execution_count": 75,
     "metadata": {},
     "output_type": "execute_result"
    }
   ],
   "source": [
    "data= train_set.drop(\"price\",axis=1)\n",
    "data_labels = train_set[\"price\"].copy()\n",
    "data.shape\n",
    "data.dtypes"
   ]
  },
  {
   "cell_type": "code",
   "execution_count": 76,
   "id": "d31af411",
   "metadata": {},
   "outputs": [
    {
     "data": {
      "text/plain": [
       "19922    1600.0\n",
       "9961       10.0\n",
       "18853    1050.0\n",
       "35126    4100.0\n",
       "23556      40.0\n",
       "Name: price, dtype: float64"
      ]
     },
     "execution_count": 76,
     "metadata": {},
     "output_type": "execute_result"
    }
   ],
   "source": [
    "data_labels.head()"
   ]
  },
  {
   "cell_type": "code",
   "execution_count": 77,
   "id": "3a678de2",
   "metadata": {},
   "outputs": [],
   "source": [
    "from sklearn.linear_model import LinearRegression\n",
    "target_scaler = StandardScaler()\n",
    "scaled_labels = target_scaler.fit_transform(data_labels.to_frame())\n",
    "model = LinearRegression()\n",
    "model.fit(data[[\"conv_date\"]],scaled_labels)\n",
    "new_data = data[[\"conv_date\"]].iloc[:5]\n",
    "scaled_predictions = model.predict(new_data)\n",
    "predictions = target_scaler.inverse_transform(scaled_predictions)"
   ]
  },
  {
   "cell_type": "code",
   "execution_count": 78,
   "id": "8b537013",
   "metadata": {},
   "outputs": [
    {
     "data": {
      "text/plain": [
       "array([[1979.01040023],\n",
       "       [1057.59989532],\n",
       "       [1953.36895826],\n",
       "       [2311.92879433],\n",
       "       [2055.51437463]])"
      ]
     },
     "execution_count": 78,
     "metadata": {},
     "output_type": "execute_result"
    }
   ],
   "source": [
    "predictions"
   ]
  },
  {
   "cell_type": "code",
   "execution_count": 79,
   "id": "3051e878",
   "metadata": {},
   "outputs": [
    {
     "data": {
      "text/plain": [
       "array([1979.01040023, 1057.59989532, 1953.36895826, 2311.92879433,\n",
       "       2055.51437463])"
      ]
     },
     "execution_count": 79,
     "metadata": {},
     "output_type": "execute_result"
    }
   ],
   "source": [
    "from sklearn.compose import TransformedTargetRegressor\n",
    "model  = TransformedTargetRegressor(LinearRegression(),transformer=StandardScaler())\n",
    "model.fit(data[[\"conv_date\"]],data_labels)\n",
    "predictions = model.predict(new_data)\n",
    "predictions"
   ]
  },
  {
   "cell_type": "code",
   "execution_count": 80,
   "id": "3bb40b23",
   "metadata": {},
   "outputs": [],
   "source": [
    "#Transformation pipelines\n",
    "#now let's build pipeline to preprocess the numerical attribute\n",
    "from sklearn.pipeline import Pipeline\n",
    "num_pipeline =Pipeline([\n",
    "    (\"imputer\", SimpleImputer(strategy=\"median\")),\n",
    "                       (\"standardize\",StandardScaler()),\n",
    "                       ])"
   ]
  },
  {
   "cell_type": "code",
   "execution_count": 82,
   "id": "0d20caf3",
   "metadata": {},
   "outputs": [],
   "source": [
    "from sklearn.pipeline import make_pipeline\n",
    "num_pipeline = make_pipeline(SimpleImputer(strategy=\"median\"),StandardScaler())"
   ]
  },
  {
   "cell_type": "code",
   "execution_count": 83,
   "id": "8c435d97",
   "metadata": {},
   "outputs": [
    {
     "data": {
      "text/html": [
       "<style>#sk-45a9fab1-fce5-410c-af05-9b94295d28ba {color: black;background-color: white;}#sk-45a9fab1-fce5-410c-af05-9b94295d28ba pre{padding: 0;}#sk-45a9fab1-fce5-410c-af05-9b94295d28ba div.sk-toggleable {background-color: white;}#sk-45a9fab1-fce5-410c-af05-9b94295d28ba label.sk-toggleable__label {cursor: pointer;display: block;width: 100%;margin-bottom: 0;padding: 0.2em 0.3em;box-sizing: border-box;text-align: center;}#sk-45a9fab1-fce5-410c-af05-9b94295d28ba div.sk-toggleable__content {max-height: 0;max-width: 0;overflow: hidden;text-align: left;background-color: #f0f8ff;}#sk-45a9fab1-fce5-410c-af05-9b94295d28ba div.sk-toggleable__content pre {margin: 0.2em;color: black;border-radius: 0.25em;background-color: #f0f8ff;}#sk-45a9fab1-fce5-410c-af05-9b94295d28ba input.sk-toggleable__control:checked~div.sk-toggleable__content {max-height: 200px;max-width: 100%;overflow: auto;}#sk-45a9fab1-fce5-410c-af05-9b94295d28ba div.sk-estimator input.sk-toggleable__control:checked~label.sk-toggleable__label {background-color: #d4ebff;}#sk-45a9fab1-fce5-410c-af05-9b94295d28ba div.sk-label input.sk-toggleable__control:checked~label.sk-toggleable__label {background-color: #d4ebff;}#sk-45a9fab1-fce5-410c-af05-9b94295d28ba input.sk-hidden--visually {border: 0;clip: rect(1px 1px 1px 1px);clip: rect(1px, 1px, 1px, 1px);height: 1px;margin: -1px;overflow: hidden;padding: 0;position: absolute;width: 1px;}#sk-45a9fab1-fce5-410c-af05-9b94295d28ba div.sk-estimator {font-family: monospace;background-color: #f0f8ff;margin: 0.25em 0.25em;border: 1px dotted black;border-radius: 0.25em;box-sizing: border-box;}#sk-45a9fab1-fce5-410c-af05-9b94295d28ba div.sk-estimator:hover {background-color: #d4ebff;}#sk-45a9fab1-fce5-410c-af05-9b94295d28ba div.sk-parallel-item::after {content: \"\";width: 100%;border-bottom: 1px solid gray;flex-grow: 1;}#sk-45a9fab1-fce5-410c-af05-9b94295d28ba div.sk-label:hover label.sk-toggleable__label {background-color: #d4ebff;}#sk-45a9fab1-fce5-410c-af05-9b94295d28ba div.sk-serial::before {content: \"\";position: absolute;border-left: 1px solid gray;box-sizing: border-box;top: 2em;bottom: 0;left: 50%;}#sk-45a9fab1-fce5-410c-af05-9b94295d28ba div.sk-serial {display: flex;flex-direction: column;align-items: center;background-color: white;}#sk-45a9fab1-fce5-410c-af05-9b94295d28ba div.sk-item {z-index: 1;}#sk-45a9fab1-fce5-410c-af05-9b94295d28ba div.sk-parallel {display: flex;align-items: stretch;justify-content: center;background-color: white;}#sk-45a9fab1-fce5-410c-af05-9b94295d28ba div.sk-parallel-item {display: flex;flex-direction: column;position: relative;background-color: white;}#sk-45a9fab1-fce5-410c-af05-9b94295d28ba div.sk-parallel-item:first-child::after {align-self: flex-end;width: 50%;}#sk-45a9fab1-fce5-410c-af05-9b94295d28ba div.sk-parallel-item:last-child::after {align-self: flex-start;width: 50%;}#sk-45a9fab1-fce5-410c-af05-9b94295d28ba div.sk-parallel-item:only-child::after {width: 0;}#sk-45a9fab1-fce5-410c-af05-9b94295d28ba div.sk-dashed-wrapped {border: 1px dashed gray;margin: 0.2em;box-sizing: border-box;padding-bottom: 0.1em;background-color: white;position: relative;}#sk-45a9fab1-fce5-410c-af05-9b94295d28ba div.sk-label label {font-family: monospace;font-weight: bold;background-color: white;display: inline-block;line-height: 1.2em;}#sk-45a9fab1-fce5-410c-af05-9b94295d28ba div.sk-label-container {position: relative;z-index: 2;text-align: center;}#sk-45a9fab1-fce5-410c-af05-9b94295d28ba div.sk-container {display: inline-block;position: relative;}</style><div id=\"sk-45a9fab1-fce5-410c-af05-9b94295d28ba\" class\"sk-top-container\"><div class=\"sk-container\"><div class=\"sk-item sk-dashed-wrapped\"><div class=\"sk-label-container\"><div class=\"sk-label sk-toggleable\"><input class=\"sk-toggleable__control sk-hidden--visually\" id=\"77f2a42d-f4a5-4967-aa75-322f975e9a42\" type=\"checkbox\" ><label class=\"sk-toggleable__label\" for=\"77f2a42d-f4a5-4967-aa75-322f975e9a42\">Pipeline</label><div class=\"sk-toggleable__content\"><pre>Pipeline(steps=[('simpleimputer', SimpleImputer(strategy='median')),\n",
       "                ('standardscaler', StandardScaler())])</pre></div></div></div><div class=\"sk-serial\"><div class=\"sk-item\"><div class=\"sk-estimator sk-toggleable\"><input class=\"sk-toggleable__control sk-hidden--visually\" id=\"37623d97-79f7-412e-9983-5543805e897e\" type=\"checkbox\" ><label class=\"sk-toggleable__label\" for=\"37623d97-79f7-412e-9983-5543805e897e\">SimpleImputer</label><div class=\"sk-toggleable__content\"><pre>SimpleImputer(strategy='median')</pre></div></div></div><div class=\"sk-item\"><div class=\"sk-estimator sk-toggleable\"><input class=\"sk-toggleable__control sk-hidden--visually\" id=\"5bbae4c8-9cfa-42b6-9d94-0cb38c804de6\" type=\"checkbox\" ><label class=\"sk-toggleable__label\" for=\"5bbae4c8-9cfa-42b6-9d94-0cb38c804de6\">StandardScaler</label><div class=\"sk-toggleable__content\"><pre>StandardScaler()</pre></div></div></div></div></div></div></div>"
      ],
      "text/plain": [
       "Pipeline(steps=[('simpleimputer', SimpleImputer(strategy='median')),\n",
       "                ('standardscaler', StandardScaler())])"
      ]
     },
     "execution_count": 83,
     "metadata": {},
     "output_type": "execute_result"
    }
   ],
   "source": [
    "#since pipeline is useful to  create a series of steps that we want to execute in order\n",
    "from sklearn import set_config\n",
    "set_config(display='diagram')\n",
    "num_pipeline"
   ]
  },
  {
   "cell_type": "code",
   "execution_count": 84,
   "id": "141168ac",
   "metadata": {},
   "outputs": [
    {
     "data": {
      "text/plain": [
       "array([[-0.13, -0.49, -0.42, -0.34, -4.02],\n",
       "       [-0.13, -0.49, -0.4 , -0.24, -4.02]])"
      ]
     },
     "execution_count": 84,
     "metadata": {},
     "output_type": "execute_result"
    }
   ],
   "source": [
    "data_num_prepared = num_pipeline.fit_transform(data_num)\n",
    "data_num_prepared[:2].round(2)"
   ]
  },
  {
   "cell_type": "code",
   "execution_count": 85,
   "id": "7c6bd0a6",
   "metadata": {},
   "outputs": [
    {
     "data": {
      "text/plain": [
       "admin1                object\n",
       "admin2                object\n",
       "category              object\n",
       "commodity             object\n",
       "date          datetime64[ns]\n",
       "latitude             float64\n",
       "longitude            float64\n",
       "market                object\n",
       "priceflag             object\n",
       "pricetype             object\n",
       "usdprice             float64\n",
       "month-year            object\n",
       "priceGroup          category\n",
       "year                  object\n",
       "conv_date              int64\n",
       "dtype: object"
      ]
     },
     "execution_count": 85,
     "metadata": {},
     "output_type": "execute_result"
    }
   ],
   "source": [
    "from sklearn.compose import ColumnTransformer\n",
    "#data[\"latitude\"]=data.latitude.astype(float)\n",
    "#data[\"longitude\"]=data.latitude.astype(float)\n",
    "num_attributes =[\"usdprice\",\"latitude\",\"longitude\",\"conv_date\",\"date\"]\n",
    "cat_attributes =[\"admin1\",\"admin2\",\"market\",\"category\",\"commodity\",\"priceflag\",\"pricetype\",\"priceGroup\",\"month-year\"]\n",
    "cat_pipeline = make_pipeline(\n",
    "SimpleImputer(strategy=\"most_frequent\"),\n",
    "OneHotEncoder(handle_unknown=\"ignore\"))\n",
    "preprocessing = ColumnTransformer([\n",
    "    (\"num\",num_pipeline, num_attributes),\n",
    "    (\"cat\",cat_pipeline, cat_attributes),\n",
    "])\n",
    "data.dtypes"
   ]
  },
  {
   "cell_type": "code",
   "execution_count": 86,
   "id": "83e03ca5",
   "metadata": {},
   "outputs": [],
   "source": [
    "from sklearn.compose import make_column_selector, make_column_transformer\n",
    "preprocessing = make_column_transformer(\n",
    "(num_pipeline, make_column_selector(dtype_include=np.number)),\n",
    "(cat_pipeline, make_column_selector(dtype_include=object)),\n",
    ")"
   ]
  },
  {
   "cell_type": "code",
   "execution_count": 87,
   "id": "4d713fc5",
   "metadata": {},
   "outputs": [],
   "source": [
    "data_prepared = preprocessing.fit_transform(data)"
   ]
  },
  {
   "cell_type": "code",
   "execution_count": 88,
   "id": "da5c9829",
   "metadata": {},
   "outputs": [
    {
     "data": {
      "text/html": [
       "<style>#sk-a7cffecf-efbf-4ce3-aa10-a8bbdbd0c0e9 {color: black;background-color: white;}#sk-a7cffecf-efbf-4ce3-aa10-a8bbdbd0c0e9 pre{padding: 0;}#sk-a7cffecf-efbf-4ce3-aa10-a8bbdbd0c0e9 div.sk-toggleable {background-color: white;}#sk-a7cffecf-efbf-4ce3-aa10-a8bbdbd0c0e9 label.sk-toggleable__label {cursor: pointer;display: block;width: 100%;margin-bottom: 0;padding: 0.2em 0.3em;box-sizing: border-box;text-align: center;}#sk-a7cffecf-efbf-4ce3-aa10-a8bbdbd0c0e9 div.sk-toggleable__content {max-height: 0;max-width: 0;overflow: hidden;text-align: left;background-color: #f0f8ff;}#sk-a7cffecf-efbf-4ce3-aa10-a8bbdbd0c0e9 div.sk-toggleable__content pre {margin: 0.2em;color: black;border-radius: 0.25em;background-color: #f0f8ff;}#sk-a7cffecf-efbf-4ce3-aa10-a8bbdbd0c0e9 input.sk-toggleable__control:checked~div.sk-toggleable__content {max-height: 200px;max-width: 100%;overflow: auto;}#sk-a7cffecf-efbf-4ce3-aa10-a8bbdbd0c0e9 div.sk-estimator input.sk-toggleable__control:checked~label.sk-toggleable__label {background-color: #d4ebff;}#sk-a7cffecf-efbf-4ce3-aa10-a8bbdbd0c0e9 div.sk-label input.sk-toggleable__control:checked~label.sk-toggleable__label {background-color: #d4ebff;}#sk-a7cffecf-efbf-4ce3-aa10-a8bbdbd0c0e9 input.sk-hidden--visually {border: 0;clip: rect(1px 1px 1px 1px);clip: rect(1px, 1px, 1px, 1px);height: 1px;margin: -1px;overflow: hidden;padding: 0;position: absolute;width: 1px;}#sk-a7cffecf-efbf-4ce3-aa10-a8bbdbd0c0e9 div.sk-estimator {font-family: monospace;background-color: #f0f8ff;margin: 0.25em 0.25em;border: 1px dotted black;border-radius: 0.25em;box-sizing: border-box;}#sk-a7cffecf-efbf-4ce3-aa10-a8bbdbd0c0e9 div.sk-estimator:hover {background-color: #d4ebff;}#sk-a7cffecf-efbf-4ce3-aa10-a8bbdbd0c0e9 div.sk-parallel-item::after {content: \"\";width: 100%;border-bottom: 1px solid gray;flex-grow: 1;}#sk-a7cffecf-efbf-4ce3-aa10-a8bbdbd0c0e9 div.sk-label:hover label.sk-toggleable__label {background-color: #d4ebff;}#sk-a7cffecf-efbf-4ce3-aa10-a8bbdbd0c0e9 div.sk-serial::before {content: \"\";position: absolute;border-left: 1px solid gray;box-sizing: border-box;top: 2em;bottom: 0;left: 50%;}#sk-a7cffecf-efbf-4ce3-aa10-a8bbdbd0c0e9 div.sk-serial {display: flex;flex-direction: column;align-items: center;background-color: white;}#sk-a7cffecf-efbf-4ce3-aa10-a8bbdbd0c0e9 div.sk-item {z-index: 1;}#sk-a7cffecf-efbf-4ce3-aa10-a8bbdbd0c0e9 div.sk-parallel {display: flex;align-items: stretch;justify-content: center;background-color: white;}#sk-a7cffecf-efbf-4ce3-aa10-a8bbdbd0c0e9 div.sk-parallel-item {display: flex;flex-direction: column;position: relative;background-color: white;}#sk-a7cffecf-efbf-4ce3-aa10-a8bbdbd0c0e9 div.sk-parallel-item:first-child::after {align-self: flex-end;width: 50%;}#sk-a7cffecf-efbf-4ce3-aa10-a8bbdbd0c0e9 div.sk-parallel-item:last-child::after {align-self: flex-start;width: 50%;}#sk-a7cffecf-efbf-4ce3-aa10-a8bbdbd0c0e9 div.sk-parallel-item:only-child::after {width: 0;}#sk-a7cffecf-efbf-4ce3-aa10-a8bbdbd0c0e9 div.sk-dashed-wrapped {border: 1px dashed gray;margin: 0.2em;box-sizing: border-box;padding-bottom: 0.1em;background-color: white;position: relative;}#sk-a7cffecf-efbf-4ce3-aa10-a8bbdbd0c0e9 div.sk-label label {font-family: monospace;font-weight: bold;background-color: white;display: inline-block;line-height: 1.2em;}#sk-a7cffecf-efbf-4ce3-aa10-a8bbdbd0c0e9 div.sk-label-container {position: relative;z-index: 2;text-align: center;}#sk-a7cffecf-efbf-4ce3-aa10-a8bbdbd0c0e9 div.sk-container {display: inline-block;position: relative;}</style><div id=\"sk-a7cffecf-efbf-4ce3-aa10-a8bbdbd0c0e9\" class\"sk-top-container\"><div class=\"sk-container\"><div class=\"sk-item sk-dashed-wrapped\"><div class=\"sk-label-container\"><div class=\"sk-label sk-toggleable\"><input class=\"sk-toggleable__control sk-hidden--visually\" id=\"3af3c624-82ea-4fd0-ad93-c990f96282f6\" type=\"checkbox\" ><label class=\"sk-toggleable__label\" for=\"3af3c624-82ea-4fd0-ad93-c990f96282f6\">Pipeline</label><div class=\"sk-toggleable__content\"><pre>Pipeline(steps=[('columntransformer',\n",
       "                 ColumnTransformer(transformers=[('pipeline-1',\n",
       "                                                  Pipeline(steps=[('simpleimputer',\n",
       "                                                                   SimpleImputer(strategy='median')),\n",
       "                                                                  ('standardscaler',\n",
       "                                                                   StandardScaler())]),\n",
       "                                                  <sklearn.compose._column_transformer.make_column_selector object at 0x000001DA1A3ED1F0>),\n",
       "                                                 ('pipeline-2',\n",
       "                                                  Pipeline(steps=[('simpleimputer',\n",
       "                                                                   SimpleImputer(strategy='most_frequent')),\n",
       "                                                                  ('onehotencoder',\n",
       "                                                                   OneHotEncoder(handle_unknown='ignore'))]),\n",
       "                                                  <sklearn.compose._column_transformer.make_column_selector object at 0x000001DA1A3ED490>)])),\n",
       "                ('linearregression', LinearRegression())])</pre></div></div></div><div class=\"sk-serial\"><div class=\"sk-item sk-dashed-wrapped\"><div class=\"sk-label-container\"><div class=\"sk-label sk-toggleable\"><input class=\"sk-toggleable__control sk-hidden--visually\" id=\"d708a5d0-db2b-4432-b955-b75c00b4d933\" type=\"checkbox\" ><label class=\"sk-toggleable__label\" for=\"d708a5d0-db2b-4432-b955-b75c00b4d933\">columntransformer: ColumnTransformer</label><div class=\"sk-toggleable__content\"><pre>ColumnTransformer(transformers=[('pipeline-1',\n",
       "                                 Pipeline(steps=[('simpleimputer',\n",
       "                                                  SimpleImputer(strategy='median')),\n",
       "                                                 ('standardscaler',\n",
       "                                                  StandardScaler())]),\n",
       "                                 <sklearn.compose._column_transformer.make_column_selector object at 0x000001DA1A3ED1F0>),\n",
       "                                ('pipeline-2',\n",
       "                                 Pipeline(steps=[('simpleimputer',\n",
       "                                                  SimpleImputer(strategy='most_frequent')),\n",
       "                                                 ('onehotencoder',\n",
       "                                                  OneHotEncoder(handle_unknown='ignore'))]),\n",
       "                                 <sklearn.compose._column_transformer.make_column_selector object at 0x000001DA1A3ED490>)])</pre></div></div></div><div class=\"sk-parallel\"><div class=\"sk-parallel-item\"><div class=\"sk-item\"><div class=\"sk-label-container\"><div class=\"sk-label sk-toggleable\"><input class=\"sk-toggleable__control sk-hidden--visually\" id=\"145f247a-e325-4547-8107-95ffa13983d2\" type=\"checkbox\" ><label class=\"sk-toggleable__label\" for=\"145f247a-e325-4547-8107-95ffa13983d2\">pipeline-1</label><div class=\"sk-toggleable__content\"><pre><sklearn.compose._column_transformer.make_column_selector object at 0x000001DA1A3ED1F0></pre></div></div></div><div class=\"sk-serial\"><div class=\"sk-item\"><div class=\"sk-serial\"><div class=\"sk-item\"><div class=\"sk-estimator sk-toggleable\"><input class=\"sk-toggleable__control sk-hidden--visually\" id=\"0d569336-1624-46c4-af64-d15d7142a09c\" type=\"checkbox\" ><label class=\"sk-toggleable__label\" for=\"0d569336-1624-46c4-af64-d15d7142a09c\">SimpleImputer</label><div class=\"sk-toggleable__content\"><pre>SimpleImputer(strategy='median')</pre></div></div></div><div class=\"sk-item\"><div class=\"sk-estimator sk-toggleable\"><input class=\"sk-toggleable__control sk-hidden--visually\" id=\"135a2b23-9422-40b5-ae62-0fba7b1af1e1\" type=\"checkbox\" ><label class=\"sk-toggleable__label\" for=\"135a2b23-9422-40b5-ae62-0fba7b1af1e1\">StandardScaler</label><div class=\"sk-toggleable__content\"><pre>StandardScaler()</pre></div></div></div></div></div></div></div></div><div class=\"sk-parallel-item\"><div class=\"sk-item\"><div class=\"sk-label-container\"><div class=\"sk-label sk-toggleable\"><input class=\"sk-toggleable__control sk-hidden--visually\" id=\"dca62c58-483c-4464-b5a9-3b62662d0a1b\" type=\"checkbox\" ><label class=\"sk-toggleable__label\" for=\"dca62c58-483c-4464-b5a9-3b62662d0a1b\">pipeline-2</label><div class=\"sk-toggleable__content\"><pre><sklearn.compose._column_transformer.make_column_selector object at 0x000001DA1A3ED490></pre></div></div></div><div class=\"sk-serial\"><div class=\"sk-item\"><div class=\"sk-serial\"><div class=\"sk-item\"><div class=\"sk-estimator sk-toggleable\"><input class=\"sk-toggleable__control sk-hidden--visually\" id=\"150b9ba1-0c9b-45e8-8765-10e649c501ea\" type=\"checkbox\" ><label class=\"sk-toggleable__label\" for=\"150b9ba1-0c9b-45e8-8765-10e649c501ea\">SimpleImputer</label><div class=\"sk-toggleable__content\"><pre>SimpleImputer(strategy='most_frequent')</pre></div></div></div><div class=\"sk-item\"><div class=\"sk-estimator sk-toggleable\"><input class=\"sk-toggleable__control sk-hidden--visually\" id=\"74a1085d-53ca-459b-b0cf-027d68a3b422\" type=\"checkbox\" ><label class=\"sk-toggleable__label\" for=\"74a1085d-53ca-459b-b0cf-027d68a3b422\">OneHotEncoder</label><div class=\"sk-toggleable__content\"><pre>OneHotEncoder(handle_unknown='ignore')</pre></div></div></div></div></div></div></div></div></div></div><div class=\"sk-item\"><div class=\"sk-estimator sk-toggleable\"><input class=\"sk-toggleable__control sk-hidden--visually\" id=\"4488952e-ce19-47a2-8dfb-324be749382f\" type=\"checkbox\" ><label class=\"sk-toggleable__label\" for=\"4488952e-ce19-47a2-8dfb-324be749382f\">LinearRegression</label><div class=\"sk-toggleable__content\"><pre>LinearRegression()</pre></div></div></div></div></div></div></div>"
      ],
      "text/plain": [
       "Pipeline(steps=[('columntransformer',\n",
       "                 ColumnTransformer(transformers=[('pipeline-1',\n",
       "                                                  Pipeline(steps=[('simpleimputer',\n",
       "                                                                   SimpleImputer(strategy='median')),\n",
       "                                                                  ('standardscaler',\n",
       "                                                                   StandardScaler())]),\n",
       "                                                  <sklearn.compose._column_transformer.make_column_selector object at 0x000001DA1A3ED1F0>),\n",
       "                                                 ('pipeline-2',\n",
       "                                                  Pipeline(steps=[('simpleimputer',\n",
       "                                                                   SimpleImputer(strategy='most_frequent')),\n",
       "                                                                  ('onehotencoder',\n",
       "                                                                   OneHotEncoder(handle_unknown='ignore'))]),\n",
       "                                                  <sklearn.compose._column_transformer.make_column_selector object at 0x000001DA1A3ED490>)])),\n",
       "                ('linearregression', LinearRegression())])"
      ]
     },
     "execution_count": 88,
     "metadata": {},
     "output_type": "execute_result"
    }
   ],
   "source": [
    "#training and evaluating the training set\n",
    "from sklearn.linear_model import LinearRegression\n",
    "lin_reg =make_pipeline(preprocessing,LinearRegression())\n",
    "lin_reg.fit(data,data_labels)"
   ]
  },
  {
   "cell_type": "code",
   "execution_count": 89,
   "id": "88bbc00d",
   "metadata": {},
   "outputs": [
    {
     "data": {
      "text/plain": [
       "array([1500., -600.,  700., 4000., -200.])"
      ]
     },
     "execution_count": 89,
     "metadata": {},
     "output_type": "execute_result"
    }
   ],
   "source": [
    "#lets try the full preprocessing pipeline on a few training instances\n",
    "data_predictions = lin_reg.predict(data)\n",
    "data_predictions[:5].round(-2)"
   ]
  },
  {
   "cell_type": "code",
   "execution_count": 90,
   "id": "2492c88e",
   "metadata": {},
   "outputs": [
    {
     "data": {
      "text/plain": [
       "array([1600.,   10., 1050., 4100.,   40.])"
      ]
     },
     "execution_count": 90,
     "metadata": {},
     "output_type": "execute_result"
    }
   ],
   "source": [
    "#compare against the actual value\n",
    "data_labels.iloc[:5].values"
   ]
  },
  {
   "cell_type": "code",
   "execution_count": 91,
   "id": "efafe848",
   "metadata": {},
   "outputs": [
    {
     "data": {
      "text/plain": [
       "594.5444736691928"
      ]
     },
     "execution_count": 91,
     "metadata": {},
     "output_type": "execute_result"
    }
   ],
   "source": [
    "from sklearn.metrics import mean_squared_error\n",
    "lin_rmse = mean_squared_error(data_labels,data_predictions,squared=False)\n",
    "lin_rmse"
   ]
  },
  {
   "cell_type": "code",
   "execution_count": 92,
   "id": "9423860e",
   "metadata": {},
   "outputs": [
    {
     "data": {
      "text/html": [
       "<style>#sk-f1661f00-8c73-458e-bbc1-4ecc0b256fcc {color: black;background-color: white;}#sk-f1661f00-8c73-458e-bbc1-4ecc0b256fcc pre{padding: 0;}#sk-f1661f00-8c73-458e-bbc1-4ecc0b256fcc div.sk-toggleable {background-color: white;}#sk-f1661f00-8c73-458e-bbc1-4ecc0b256fcc label.sk-toggleable__label {cursor: pointer;display: block;width: 100%;margin-bottom: 0;padding: 0.2em 0.3em;box-sizing: border-box;text-align: center;}#sk-f1661f00-8c73-458e-bbc1-4ecc0b256fcc div.sk-toggleable__content {max-height: 0;max-width: 0;overflow: hidden;text-align: left;background-color: #f0f8ff;}#sk-f1661f00-8c73-458e-bbc1-4ecc0b256fcc div.sk-toggleable__content pre {margin: 0.2em;color: black;border-radius: 0.25em;background-color: #f0f8ff;}#sk-f1661f00-8c73-458e-bbc1-4ecc0b256fcc input.sk-toggleable__control:checked~div.sk-toggleable__content {max-height: 200px;max-width: 100%;overflow: auto;}#sk-f1661f00-8c73-458e-bbc1-4ecc0b256fcc div.sk-estimator input.sk-toggleable__control:checked~label.sk-toggleable__label {background-color: #d4ebff;}#sk-f1661f00-8c73-458e-bbc1-4ecc0b256fcc div.sk-label input.sk-toggleable__control:checked~label.sk-toggleable__label {background-color: #d4ebff;}#sk-f1661f00-8c73-458e-bbc1-4ecc0b256fcc input.sk-hidden--visually {border: 0;clip: rect(1px 1px 1px 1px);clip: rect(1px, 1px, 1px, 1px);height: 1px;margin: -1px;overflow: hidden;padding: 0;position: absolute;width: 1px;}#sk-f1661f00-8c73-458e-bbc1-4ecc0b256fcc div.sk-estimator {font-family: monospace;background-color: #f0f8ff;margin: 0.25em 0.25em;border: 1px dotted black;border-radius: 0.25em;box-sizing: border-box;}#sk-f1661f00-8c73-458e-bbc1-4ecc0b256fcc div.sk-estimator:hover {background-color: #d4ebff;}#sk-f1661f00-8c73-458e-bbc1-4ecc0b256fcc div.sk-parallel-item::after {content: \"\";width: 100%;border-bottom: 1px solid gray;flex-grow: 1;}#sk-f1661f00-8c73-458e-bbc1-4ecc0b256fcc div.sk-label:hover label.sk-toggleable__label {background-color: #d4ebff;}#sk-f1661f00-8c73-458e-bbc1-4ecc0b256fcc div.sk-serial::before {content: \"\";position: absolute;border-left: 1px solid gray;box-sizing: border-box;top: 2em;bottom: 0;left: 50%;}#sk-f1661f00-8c73-458e-bbc1-4ecc0b256fcc div.sk-serial {display: flex;flex-direction: column;align-items: center;background-color: white;}#sk-f1661f00-8c73-458e-bbc1-4ecc0b256fcc div.sk-item {z-index: 1;}#sk-f1661f00-8c73-458e-bbc1-4ecc0b256fcc div.sk-parallel {display: flex;align-items: stretch;justify-content: center;background-color: white;}#sk-f1661f00-8c73-458e-bbc1-4ecc0b256fcc div.sk-parallel-item {display: flex;flex-direction: column;position: relative;background-color: white;}#sk-f1661f00-8c73-458e-bbc1-4ecc0b256fcc div.sk-parallel-item:first-child::after {align-self: flex-end;width: 50%;}#sk-f1661f00-8c73-458e-bbc1-4ecc0b256fcc div.sk-parallel-item:last-child::after {align-self: flex-start;width: 50%;}#sk-f1661f00-8c73-458e-bbc1-4ecc0b256fcc div.sk-parallel-item:only-child::after {width: 0;}#sk-f1661f00-8c73-458e-bbc1-4ecc0b256fcc div.sk-dashed-wrapped {border: 1px dashed gray;margin: 0.2em;box-sizing: border-box;padding-bottom: 0.1em;background-color: white;position: relative;}#sk-f1661f00-8c73-458e-bbc1-4ecc0b256fcc div.sk-label label {font-family: monospace;font-weight: bold;background-color: white;display: inline-block;line-height: 1.2em;}#sk-f1661f00-8c73-458e-bbc1-4ecc0b256fcc div.sk-label-container {position: relative;z-index: 2;text-align: center;}#sk-f1661f00-8c73-458e-bbc1-4ecc0b256fcc div.sk-container {display: inline-block;position: relative;}</style><div id=\"sk-f1661f00-8c73-458e-bbc1-4ecc0b256fcc\" class\"sk-top-container\"><div class=\"sk-container\"><div class=\"sk-item sk-dashed-wrapped\"><div class=\"sk-label-container\"><div class=\"sk-label sk-toggleable\"><input class=\"sk-toggleable__control sk-hidden--visually\" id=\"8ecce89b-f54f-4aba-bbb2-416106b5b432\" type=\"checkbox\" ><label class=\"sk-toggleable__label\" for=\"8ecce89b-f54f-4aba-bbb2-416106b5b432\">Pipeline</label><div class=\"sk-toggleable__content\"><pre>Pipeline(steps=[('columntransformer',\n",
       "                 ColumnTransformer(transformers=[('pipeline-1',\n",
       "                                                  Pipeline(steps=[('simpleimputer',\n",
       "                                                                   SimpleImputer(strategy='median')),\n",
       "                                                                  ('standardscaler',\n",
       "                                                                   StandardScaler())]),\n",
       "                                                  <sklearn.compose._column_transformer.make_column_selector object at 0x000001DA1A3ED1F0>),\n",
       "                                                 ('pipeline-2',\n",
       "                                                  Pipeline(steps=[('simpleimputer',\n",
       "                                                                   SimpleImputer(strategy='most_frequent')),\n",
       "                                                                  ('onehotencoder',\n",
       "                                                                   OneHotEncoder(handle_unknown='ignore'))]),\n",
       "                                                  <sklearn.compose._column_transformer.make_column_selector object at 0x000001DA1A3ED490>)])),\n",
       "                ('decisiontreeregressor',\n",
       "                 DecisionTreeRegressor(random_state=42))])</pre></div></div></div><div class=\"sk-serial\"><div class=\"sk-item sk-dashed-wrapped\"><div class=\"sk-label-container\"><div class=\"sk-label sk-toggleable\"><input class=\"sk-toggleable__control sk-hidden--visually\" id=\"4e9c82e6-290c-4b3b-ab06-7ee13a0ae2e5\" type=\"checkbox\" ><label class=\"sk-toggleable__label\" for=\"4e9c82e6-290c-4b3b-ab06-7ee13a0ae2e5\">columntransformer: ColumnTransformer</label><div class=\"sk-toggleable__content\"><pre>ColumnTransformer(transformers=[('pipeline-1',\n",
       "                                 Pipeline(steps=[('simpleimputer',\n",
       "                                                  SimpleImputer(strategy='median')),\n",
       "                                                 ('standardscaler',\n",
       "                                                  StandardScaler())]),\n",
       "                                 <sklearn.compose._column_transformer.make_column_selector object at 0x000001DA1A3ED1F0>),\n",
       "                                ('pipeline-2',\n",
       "                                 Pipeline(steps=[('simpleimputer',\n",
       "                                                  SimpleImputer(strategy='most_frequent')),\n",
       "                                                 ('onehotencoder',\n",
       "                                                  OneHotEncoder(handle_unknown='ignore'))]),\n",
       "                                 <sklearn.compose._column_transformer.make_column_selector object at 0x000001DA1A3ED490>)])</pre></div></div></div><div class=\"sk-parallel\"><div class=\"sk-parallel-item\"><div class=\"sk-item\"><div class=\"sk-label-container\"><div class=\"sk-label sk-toggleable\"><input class=\"sk-toggleable__control sk-hidden--visually\" id=\"2fddd8da-d274-4967-9067-412bfce4527e\" type=\"checkbox\" ><label class=\"sk-toggleable__label\" for=\"2fddd8da-d274-4967-9067-412bfce4527e\">pipeline-1</label><div class=\"sk-toggleable__content\"><pre><sklearn.compose._column_transformer.make_column_selector object at 0x000001DA1A3ED1F0></pre></div></div></div><div class=\"sk-serial\"><div class=\"sk-item\"><div class=\"sk-serial\"><div class=\"sk-item\"><div class=\"sk-estimator sk-toggleable\"><input class=\"sk-toggleable__control sk-hidden--visually\" id=\"f3839b0c-b5ce-409f-8231-f68849678651\" type=\"checkbox\" ><label class=\"sk-toggleable__label\" for=\"f3839b0c-b5ce-409f-8231-f68849678651\">SimpleImputer</label><div class=\"sk-toggleable__content\"><pre>SimpleImputer(strategy='median')</pre></div></div></div><div class=\"sk-item\"><div class=\"sk-estimator sk-toggleable\"><input class=\"sk-toggleable__control sk-hidden--visually\" id=\"137a5581-4ca8-4149-987e-3e5795df72ba\" type=\"checkbox\" ><label class=\"sk-toggleable__label\" for=\"137a5581-4ca8-4149-987e-3e5795df72ba\">StandardScaler</label><div class=\"sk-toggleable__content\"><pre>StandardScaler()</pre></div></div></div></div></div></div></div></div><div class=\"sk-parallel-item\"><div class=\"sk-item\"><div class=\"sk-label-container\"><div class=\"sk-label sk-toggleable\"><input class=\"sk-toggleable__control sk-hidden--visually\" id=\"ddf715e3-23e5-43b5-ba63-a3f6f54df7fc\" type=\"checkbox\" ><label class=\"sk-toggleable__label\" for=\"ddf715e3-23e5-43b5-ba63-a3f6f54df7fc\">pipeline-2</label><div class=\"sk-toggleable__content\"><pre><sklearn.compose._column_transformer.make_column_selector object at 0x000001DA1A3ED490></pre></div></div></div><div class=\"sk-serial\"><div class=\"sk-item\"><div class=\"sk-serial\"><div class=\"sk-item\"><div class=\"sk-estimator sk-toggleable\"><input class=\"sk-toggleable__control sk-hidden--visually\" id=\"0e698722-3e9b-4b0d-803c-76946c373d12\" type=\"checkbox\" ><label class=\"sk-toggleable__label\" for=\"0e698722-3e9b-4b0d-803c-76946c373d12\">SimpleImputer</label><div class=\"sk-toggleable__content\"><pre>SimpleImputer(strategy='most_frequent')</pre></div></div></div><div class=\"sk-item\"><div class=\"sk-estimator sk-toggleable\"><input class=\"sk-toggleable__control sk-hidden--visually\" id=\"8e333be8-c7b4-451c-af58-a21516bd56fb\" type=\"checkbox\" ><label class=\"sk-toggleable__label\" for=\"8e333be8-c7b4-451c-af58-a21516bd56fb\">OneHotEncoder</label><div class=\"sk-toggleable__content\"><pre>OneHotEncoder(handle_unknown='ignore')</pre></div></div></div></div></div></div></div></div></div></div><div class=\"sk-item\"><div class=\"sk-estimator sk-toggleable\"><input class=\"sk-toggleable__control sk-hidden--visually\" id=\"477456ca-2d97-4b20-8a5c-68c1b9779d82\" type=\"checkbox\" ><label class=\"sk-toggleable__label\" for=\"477456ca-2d97-4b20-8a5c-68c1b9779d82\">DecisionTreeRegressor</label><div class=\"sk-toggleable__content\"><pre>DecisionTreeRegressor(random_state=42)</pre></div></div></div></div></div></div></div>"
      ],
      "text/plain": [
       "Pipeline(steps=[('columntransformer',\n",
       "                 ColumnTransformer(transformers=[('pipeline-1',\n",
       "                                                  Pipeline(steps=[('simpleimputer',\n",
       "                                                                   SimpleImputer(strategy='median')),\n",
       "                                                                  ('standardscaler',\n",
       "                                                                   StandardScaler())]),\n",
       "                                                  <sklearn.compose._column_transformer.make_column_selector object at 0x000001DA1A3ED1F0>),\n",
       "                                                 ('pipeline-2',\n",
       "                                                  Pipeline(steps=[('simpleimputer',\n",
       "                                                                   SimpleImputer(strategy='most_frequent')),\n",
       "                                                                  ('onehotencoder',\n",
       "                                                                   OneHotEncoder(handle_unknown='ignore'))]),\n",
       "                                                  <sklearn.compose._column_transformer.make_column_selector object at 0x000001DA1A3ED490>)])),\n",
       "                ('decisiontreeregressor',\n",
       "                 DecisionTreeRegressor(random_state=42))])"
      ]
     },
     "execution_count": 92,
     "metadata": {},
     "output_type": "execute_result"
    }
   ],
   "source": [
    "from sklearn.tree import DecisionTreeRegressor\n",
    "tree_reg = make_pipeline(preprocessing,DecisionTreeRegressor(random_state=42))\n",
    "tree_reg.fit(data,data_labels)"
   ]
  },
  {
   "cell_type": "code",
   "execution_count": 93,
   "id": "29af3247",
   "metadata": {},
   "outputs": [
    {
     "data": {
      "text/plain": [
       "8.42757425349114e-17"
      ]
     },
     "execution_count": 93,
     "metadata": {},
     "output_type": "execute_result"
    }
   ],
   "source": [
    "data_predictions = tree_reg.predict(data)\n",
    "tree_rmse = mean_squared_error(data_labels,data_predictions,\n",
    "                              squared=False)\n",
    "tree_rmse"
   ]
  },
  {
   "cell_type": "code",
   "execution_count": 94,
   "id": "cac592e6",
   "metadata": {},
   "outputs": [],
   "source": [
    "#Better Evaluation Using Cross Validation to test intervally in the process by splitting the dataset in to smaller sets\n",
    "#here the nine are for training and the tenth one for testing\n",
    "from sklearn.model_selection import cross_val_score\n",
    "tree_rmses = -cross_val_score(tree_reg,data,data_labels,\n",
    "                            scoring =\"neg_root_mean_squared_error\",cv=10)"
   ]
  },
  {
   "cell_type": "code",
   "execution_count": 95,
   "id": "c7f37f27",
   "metadata": {},
   "outputs": [
    {
     "name": "stdout",
     "output_type": "stream",
     "text": [
      "610.7425482257173\n"
     ]
    }
   ],
   "source": [
    "#Evaluating the system with test set\n",
    "from sklearn.metrics import mean_squared_error\n",
    "X_test =test_set.drop(\"price\",axis =1)\n",
    "y_test = test_set[\"price\"].copy()\n",
    "final_predictions = lin_reg.predict(X_test.reset_index(drop=True))\n",
    "final_rmse = mean_squared_error(y_test, final_predictions,squared=False)\n",
    "print(final_rmse)"
   ]
  },
  {
   "cell_type": "code",
   "execution_count": 96,
   "id": "d28038a8",
   "metadata": {},
   "outputs": [
    {
     "name": "stdout",
     "output_type": "stream",
     "text": [
      "174.92289889206128\n"
     ]
    }
   ],
   "source": [
    "#Evaluating the system with test set\n",
    "from sklearn.metrics import mean_squared_error\n",
    "X_test =test_set.drop(\"price\",axis =1)\n",
    "y_test = test_set[\"price\"].copy()\n",
    "final_predictions = tree_reg.predict(X_test.reset_index(drop=True))\n",
    "final_rmse = mean_squared_error(y_test, final_predictions,squared=False)\n",
    "print(final_rmse)"
   ]
  },
  {
   "cell_type": "code",
   "execution_count": 97,
   "id": "ac390ea2",
   "metadata": {},
   "outputs": [],
   "source": [
    "from sklearn.ensemble import RandomForestRegressor\n",
    "forest_reg = make_pipeline(preprocessing,\n",
    "                           RandomForestRegressor(random_state=42))\n",
    "forest_rmses=-cross_val_score(forest_reg, data, data_labels,\n",
    "                                                       scoring=\"neg_root_mean_squared_error\", cv=10)"
   ]
  },
  {
   "cell_type": "code",
   "execution_count": 98,
   "id": "b04f4421",
   "metadata": {},
   "outputs": [
    {
     "data": {
      "text/plain": [
       "47.22347655885022"
      ]
     },
     "execution_count": 98,
     "metadata": {},
     "output_type": "execute_result"
    }
   ],
   "source": [
    "forest_reg.fit(data, data_labels)\n",
    "data_predictions = forest_reg.predict(data)\n",
    "forest_rmse = mean_squared_error(data_labels,data_predictions,\n",
    "                                squared=False)\n",
    "forest_rmse"
   ]
  },
  {
   "cell_type": "code",
   "execution_count": 68,
   "id": "d9fcfc9a",
   "metadata": {},
   "outputs": [
    {
     "data": {
      "image/png": "[encoded data removed]",
      "text/plain": [
       "<Figure size 432x288 with 1 Axes>"
      ]
     },
     "metadata": {
      "needs_background": "light"
     },
     "output_type": "display_data"
    }
   ],
   "source": [
    "data.plot(kind=\"scatter\",x=\"conv_date\",y=\"usdprice\",alpha=0.1,grid=True)\n",
    "plt.show()"
   ]
  },
  {
   "cell_type": "code",
   "execution_count": null,
   "id": "f273703c",
   "metadata": {},
   "outputs": [],
   "source": []
  }
 ],
 "metadata": {
  "kernelspec": {
   "display_name": "Python 3 (ipykernel)",
   "language": "python",
   "name": "python3"
  },
  "language_info": {
   "codemirror_mode": {
    "name": "ipython",
    "version": 3
   },
   "file_extension": ".py",
   "mimetype": "text/x-python",
   "name": "python",
   "nbconvert_exporter": "python",
   "pygments_lexer": "ipython3",
   "version": "3.9.7"
  }
 },
 "nbformat": 4,
 "nbformat_minor": 5
}
